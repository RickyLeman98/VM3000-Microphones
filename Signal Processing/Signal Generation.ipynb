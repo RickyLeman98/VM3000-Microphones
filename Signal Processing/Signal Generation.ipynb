{
 "cells": [
  {
   "cell_type": "markdown",
   "metadata": {},
   "source": [
    " ## <b>Connecting vxi11 compatible devices via Ethernet </b>"
   ]
  },
  {
   "cell_type": "code",
   "execution_count": 10,
   "metadata": {},
   "outputs": [
    {
     "name": "stdout",
     "output_type": "stream",
     "text": [
      "Requirement already satisfied: python-vxi11 in c:\\users\\ricky\\anaconda3\\envs\\jupyterlab\\lib\\site-packages (0.9)\n"
     ]
    }
   ],
   "source": [
    "!pip3 install python-vxi11"
   ]
  },
  {
   "cell_type": "code",
   "execution_count": 39,
   "metadata": {},
   "outputs": [],
   "source": [
    "import vxi11\n",
    "import time"
   ]
  },
  {
   "cell_type": "code",
   "execution_count": 40,
   "metadata": {},
   "outputs": [],
   "source": [
    "keysight_ip = '192.168.0.8'"
   ]
  },
  {
   "cell_type": "code",
   "execution_count": 41,
   "metadata": {},
   "outputs": [
    {
     "name": "stdout",
     "output_type": "stream",
     "text": [
      "Agilent Technologies,33512B,MY57401183,4.00-1.19-2.00-58-00\n"
     ]
    }
   ],
   "source": [
    "Keysight = vxi11.Instrument(keysight_ip)\n",
    "print(Keysight.ask(\"*IDN?\"))"
   ]
  },
  {
   "cell_type": "code",
   "execution_count": 42,
   "metadata": {},
   "outputs": [],
   "source": [
    "rigol_ip = '192.168.0.14'"
   ]
  },
  {
   "cell_type": "code",
   "execution_count": 43,
   "metadata": {},
   "outputs": [
    {
     "name": "stdout",
     "output_type": "stream",
     "text": [
      "RIGOL TECHNOLOGIES,DS1074Z,DS1ZA193816619,00.04.04.SP3\n"
     ]
    }
   ],
   "source": [
    "Rigol = vxi11.Instrument(rigol_ip)\n",
    "print(Rigol.ask(\"*IDN?\"))"
   ]
  },
  {
   "cell_type": "markdown",
   "metadata": {
    "collapsed": "true"
   },
   "source": [
    "## <b> Interacting with a Brüel & Kjær Type 3050-B-6 using Python </b>"
   ]
  },
  {
   "cell_type": "code",
   "execution_count": null,
   "metadata": {},
   "outputs": [],
   "source": [
    "cd ../PyBnK"
   ]
  },
  {
   "cell_type": "code",
   "execution_count": null,
   "metadata": {},
   "outputs": [],
   "source": [
    "from bnk.bnk import WavHeader, OpenWav, Instrument"
   ]
  },
  {
   "cell_type": "code",
   "execution_count": null,
   "metadata": {},
   "outputs": [],
   "source": [
    "bnk_ip = '192.168.0.9'\n",
    "ADAC = Instrument(bnk_ip)\n",
    "print(ADAC) # Show some info about the BnK device"
   ]
  },
  {
   "cell_type": "markdown",
   "metadata": {},
   "source": [
    "## <b> Python Wrapper for Keysight 33500B - Modified from Carlin's code</b>"
   ]
  },
  {
   "cell_type": "code",
   "execution_count": 44,
   "metadata": {},
   "outputs": [],
   "source": [
    "class keysight():\n",
    "    \n",
    "    def __init__(self,instrument_ID=keysight_ip):\n",
    "        self.Keysight =  vxi11.Instrument(instrument_ID)\n",
    "        print(self.Keysight.ask(\"*IDN?\"))\n",
    "        \n",
    "    def enable(self):\n",
    "        self.Keysight.write(\"OUTPut ON\")\n",
    "        \n",
    "    def disable(self):\n",
    "        self.Keysight.write(\"OUTPut OFF\") \n",
    "        \n",
    "    def enable_high_impedance(self):\n",
    "        self.Keysight.write(\"OUTPut:LOAD INF\")  \n",
    "        \n",
    "    def sine(self,frequency=500,amplitude=0.01,offset=0):\n",
    "        self.Keysight.write(f\"VOLTage:OFFSet {offset}\")\n",
    "        self.Keysight.write(\"VOLTage:UNIT VRMS\")\n",
    "        self.Keysight.write(f\"VOLTage {amplitude}\")\n",
    "        self.Keysight.write(\"FUNCtion SINusoid\")\n",
    "        self.Keysight.write(f\"FREQuency {frequency}\")\n",
    "        \n",
    "    def whitenoise(self, bandwidth=1500, amplitude=0.01):\n",
    "        self.Keysight.write(\"VOLTage:UNIT VRMS\")\n",
    "        self.Keysight.write(f\"VOLTage {amplitude}\")\n",
    "        self.Keysight.write(\"FUNCtion NOISe\")\n",
    "        self.Keysight.write(f\"FUNCtion:NOISe:BANDwidth {bandwidth}\")\n",
    "        \n",
    "    def enable_burst(self,frequency=2000,ncycles=50,int_period=5):\n",
    "        self.Keysight.write(\"FUNCtion SINusoid\")\n",
    "        self.Keysight.write(\"BURSt:STATe ON\")\n",
    "        self.Keysight.write(f\"FREQuency {frequency}\")\n",
    "        self.Keysight.write(f\"BURSt:NCYCles {ncycles}\")\n",
    "        self.Keysight.write(f\"BURSt:INTernal:PERiod {int_period}\")          \n",
    "        self.Keysight.write(\"OUTPut ON\")\n",
    "        \n",
    "    def disable_burst(self):\n",
    "        self.Keysight.write(\"BURSt:STATe OFF\")\n",
    "        self.Keysight.write(\"OUTPut OFF\")\n",
    "        \n",
    "    def enable_sweep(self, mode=\"logarithmic\", runTime=10):\n",
    "        self.Keysight.write(\"FUNCtion SINusoid\")\n",
    "        self.Keysight.write(\"SWEep:STATe ON\")\n",
    "        self.Keysight.write(f\"SWEep:SPAcing {mode}\")\n",
    "        self.Keysight.write(f\"SWEep:TIME {runTime}\")\n",
    "        self.Keysight.write(f\"FREQuency:STARt {10}\")\n",
    "        self.Keysight.write(f\"FREQuency:STOP {20000}\")\n",
    "        self.Keysight.write(\"OUTPut ON\")\n",
    "        \n",
    "    def disable_sweep(self):\n",
    "        self.Keysight.write(\"SWEep:STATe OFF\")\n",
    "        self.Keysight.write(\"OUTPut OFF\")"
   ]
  },
  {
   "cell_type": "markdown",
   "metadata": {},
   "source": [
    "## <b> Connecting to RPI Zero W </b>"
   ]
  },
  {
   "cell_type": "code",
   "execution_count": 45,
   "metadata": {},
   "outputs": [],
   "source": [
    "#Connecting to the RPi over Wi-Fi\n",
    "import datetime\n",
    "from paramiko import SSHClient\n",
    "from scp import SCPClient\n",
    "RPi = '192.168.0.6' # This is the IP address when RPi is connected to SHL network, note that this changes depending on different networks unless static IP is set\n",
    "ssh = SSHClient()\n",
    "ssh.load_system_host_keys()\n",
    "ssh.connect(RPi,username='pi')"
   ]
  },
  {
   "cell_type": "code",
   "execution_count": 46,
   "metadata": {},
   "outputs": [],
   "source": [
    "scp = SCPClient(ssh.get_transport())"
   ]
  },
  {
   "cell_type": "code",
   "execution_count": 52,
   "metadata": {},
   "outputs": [
    {
     "ename": "SyntaxError",
     "evalue": "invalid syntax (<ipython-input-52-3279e0e7b756>, line 2)",
     "output_type": "error",
     "traceback": [
      "\u001b[1;36m  File \u001b[1;32m\"<ipython-input-52-3279e0e7b756>\"\u001b[1;36m, line \u001b[1;32m2\u001b[0m\n\u001b[1;33m    cd ..\\Audio Files\u001b[0m\n\u001b[1;37m        ^\u001b[0m\n\u001b[1;31mSyntaxError\u001b[0m\u001b[1;31m:\u001b[0m invalid syntax\n"
     ]
    }
   ],
   "source": [
    "# File directory for all audio .wav test files\n",
    "cd ../Audio Files"
   ]
  },
  {
   "cell_type": "code",
   "execution_count": 51,
   "metadata": {},
   "outputs": [
    {
     "name": "stdout",
     "output_type": "stream",
     "text": [
      "C:\\Users\\ricky\\Documents\\VM3000-Microphones\\Audio Files\n"
     ]
    }
   ],
   "source": [
    "# Checking Current File directory\n",
    "\n",
    "import os\n",
    "print(os.getcwd())\n",
    "#scp.get('test_file.txt')"
   ]
  },
  {
   "cell_type": "code",
   "execution_count": 53,
   "metadata": {},
   "outputs": [
    {
     "name": "stdout",
     "output_type": "stream",
     "text": [
      "total 556796\n",
      "\n",
      "-rw-r--r--  1 pi   pi     2704044 Sep  7 09:28 48000\n",
      "\n",
      "-rw-r--r--  1 pi   pi          44 Mar  3 13:57 ambientTest_20210312_104319.wav\n",
      "\n",
      "-rw-r--r--  1 pi   pi         370 Sep 22 10:40 blinkatest.py\n",
      "\n",
      "-rw-r--r--  1 pi   pi      960044 Mar  3 13:09 burstTest_20210312_094957.wav\n",
      "\n",
      "-rw-r--r--  1 pi   pi      960044 Mar  3 13:09 burstTest_20210312_095048.wav\n",
      "\n",
      "-rw-r--r--  1 pi   pi       24044 Mar  3 13:53 burstTest_20210312_103945.wav\n",
      "\n",
      "-rw-r--r--  1 pi   pi          44 Mar  3 13:55 burstTest_20210312_104154.wav\n",
      "\n",
      "-rw-r--r--  1 pi   pi     1920044 Mar  3 16:56 burstTest_20210312_134221.wav\n",
      "\n",
      "-rw-r--r--  1 pi   pi     1920044 Mar  3 17:01 burstTest_20210312_134736.wav\n",
      "\n",
      "-rwxr-xr-x  1 pi   pi        2677 Aug 26  2020 i2smic.sh\n",
      "\n",
      "lrwxrwxrwx  1 pi   pi          55 Sep 23 02:54 linux -> /home/pi/linux-988cc7beacc150756c3fbe40646afcf8438b741b\n",
      "\n",
      "drwxr-xr-x 27 pi   pi        4096 Sep 22 16:18 linux-43857965e5f526b9df807e543102a11fac1c0bcc\n",
      "\n",
      "-rw-r--r--  1 pi   pi   163445874 Sep 22 16:13 linux-43857965e5f526b9df807e543102a11fac1c0bcc.tar.gz\n",
      "\n",
      "drwxr-xr-x 27 pi   pi        4096 Sep 23 02:58 linux-988cc7beacc150756c3fbe40646afcf8438b741b\n",
      "\n",
      "-rw-r--r--  1 pi   pi   163419588 Sep 23 02:52 linux-988cc7beacc150756c3fbe40646afcf8438b741b.tar.gz\n",
      "\n",
      "drwxr-xr-x 27 pi   pi        4096 Aug 26  2020 linux-fe2c7bf4cad4641dfb6f12712755515ab15815ca\n",
      "\n",
      "-rw-r--r--  1 pi   pi   163526392 Aug 26  2020 linux-fe2c7bf4cad4641dfb6f12712755515ab15815ca.tar.gz\n",
      "\n",
      "drwxr-xr-x  4 pi   pi        4096 Sep 23 03:06 rpi-i2s-audio\n",
      "\n",
      "-rw-r--r--  1 pi   pi     1920044 Mar  3 13:07 sineTest_20210312_094828.wav\n",
      "\n",
      "-rw-r--r--  1 pi   pi      960044 Mar  3 13:42 sineTest_20210312_102756.wav\n",
      "\n",
      "-rw-r--r--  1 pi   pi          44 Mar  3 13:53 sineTest_20210312_103918.wav\n",
      "\n",
      "-rw-r--r--  1 pi   pi      960044 Mar  3 15:52 sineTest_20210312_123851.wav\n",
      "\n",
      "-rw-r--r--  1 pi   pi      960044 Mar  3 15:53 sineTest_20210312_123943.wav\n",
      "\n",
      "-rw-r--r--  1 pi   pi      960044 Mar  3 15:55 sineTest_20210312_124100.wav\n",
      "\n",
      "-rw-r--r--  1 pi   pi     1920044 Mar  3 15:57 sineTest_20210312_124347.wav\n",
      "\n",
      "-rw-r--r--  1 pi   pi     1920044 Mar  3 15:58 sineTest_20210312_124426.wav\n",
      "\n",
      "-rw-r--r--  1 pi   pi     2880044 Mar  3 15:59 sineTest_20210312_124517.wav\n",
      "\n",
      "-rw-r--r--  1 pi   pi     2880044 Mar  3 16:54 sineTest_20210312_134022.wav\n",
      "\n",
      "drwxr-xr-x  2 pi   pi        4096 Mar  3 12:00 SoundFiles\n",
      "\n",
      "-rw-r--r--  1 pi   pi      768044 Mar  3 12:51 Sweep\n",
      "\n",
      "-rw-r--r--  1 pi   pi      768044 Mar  3 13:07 sweepTest_20210312_094813.wav\n",
      "\n",
      "-rw-r--r--  1 pi   pi          44 Mar  3 13:40 sweepTest_20210312_102612.wav\n",
      "\n",
      "-rw-r--r--  1 pi   pi          44 Mar  3 13:46 sweepTest_20210312_103217.wav\n",
      "\n",
      "-rw-r--r--  1 pi   pi          44 Mar  3 13:53 sweepTest_20210312_103903.wav\n",
      "\n",
      "-rw-r--r--  1 pi   pi       72044 Mar  3 13:59 sweepTest_20210312_104459.wav\n",
      "\n",
      "-rw-r--r--  1 pi   pi          44 Mar  3 14:01 sweepTest_20210312_104722.wav\n",
      "\n",
      "-rw-r--r--  1 pi   pi      960044 Mar  3 14:04 sweepTest_20210312_105035.wav\n",
      "\n",
      "-rw-r--r--  1 pi   pi      960044 Mar  3 14:10 sweepTest_20210312_105642.wav\n",
      "\n",
      "-rw-r--r--  1 pi   pi      960044 Mar  3 15:35 sweepTest_20210312_122132.wav\n",
      "\n",
      "-rw-r--r--  1 pi   pi     2304044 Mar  3 15:36 sweepTest_20210312_122202.wav\n",
      "\n",
      "-rw-r--r--  1 pi   pi     2304044 Mar  3 15:37 sweepTest_20210312_122307.wav\n",
      "\n",
      "-rw-r--r--  1 pi   pi     2304044 Mar  3 15:38 sweepTest_20210312_122402.wav\n",
      "\n",
      "-rw-r--r--  1 pi   pi     2304044 Mar  3 15:39 sweepTest_20210312_122458.wav\n",
      "\n",
      "-rw-r--r--  1 pi   pi     2304044 Mar  3 15:44 sweepTest_20210312_122956.wav\n",
      "\n",
      "-rw-r--r--  1 pi   pi     2304044 Mar  3 15:46 sweepTest_20210312_123159.wav\n",
      "\n",
      "-rw-r--r--  1 pi   pi     2880044 Mar  3 15:48 sweepTest_20210312_123443.wav\n",
      "\n",
      "-rw-r--r--  1 pi   pi     5760044 Mar  3 15:50 sweepTest_20210312_123555.wav\n",
      "\n",
      "-rw-r--r--  1 pi   pi     2880044 Mar  3 16:01 sweepTest_20210312_124659.wav\n",
      "\n",
      "-rw-r--r--  1 pi   pi     2880044 Mar  3 16:55 sweepTest_20210312_134055.wav\n",
      "\n",
      "-rw-r--r--  1 pi   pi     9600044 Mar  3 15:43 tester2.wav\n",
      "\n",
      "-rw-r--r--  1 pi   pi     9600044 Mar  3 15:07 tester.wav\n",
      "\n",
      "-rw-r--r--  1 pi   pi           0 Mar  3 13:28 test_file.txt\n",
      "\n",
      "drwxr-xr-x  4 pi   pi        4096 Aug 18  2020 VM3000-Microphones\n",
      "\n",
      "-rw-r--r--  1 pi   pi         919 Sep 22 10:41 wherePDM.py\n",
      "\n",
      "-rw-r--r--  1 pi   pi      960044 Mar  3 13:07 whiteNoiseTest_20210312_094853.wav\n",
      "\n",
      "-rw-r--r--  1 pi   pi          44 Mar  3 13:53 whiteNoiseTest_20210312_103932.wav\n",
      "\n",
      "-rw-r--r--  1 pi   pi     2880044 Mar  3 16:55 whiteNoiseTest_20210312_134138.wav\n",
      "\n",
      "-rw-r--r--  1 root root       272 Sep 15 03:47 wpa_supplicant.conf\n",
      "\n"
     ]
    }
   ],
   "source": [
    "# Checking RPI Zero W files using ls\n",
    "\n",
    "stdin, stdout, stderr = ssh.exec_command('ls -l')\n",
    "for x in stdout: # stdout is a file, therefore to see the ls contents of the RPI, we use a for loop and print out all lines in stdout\n",
    "    print(x)"
   ]
  },
  {
   "cell_type": "code",
   "execution_count": 27,
   "metadata": {},
   "outputs": [],
   "source": [
    "# client = SSHClient()\n",
    "# client.load_system_host_keys()\n",
    "# client.connect('192.168.0.6',username='pi')\n",
    "#stdin, stdout, stderr = client.exec_command('touch test_file.txt')\n",
    "#print(stdin)"
   ]
  },
  {
   "cell_type": "code",
   "execution_count": 37,
   "metadata": {},
   "outputs": [],
   "source": [
    "# cmd = client.exec_command('arecord -D plughw:1 -c2 -r 48000 -f S16_LE -t wav -V stereo -v -d 50 tester2.wav')"
   ]
  },
  {
   "cell_type": "code",
   "execution_count": 41,
   "metadata": {},
   "outputs": [
    {
     "data": {
      "text/plain": [
       "1"
      ]
     },
     "execution_count": 41,
     "metadata": {},
     "output_type": "execute_result"
    }
   ],
   "source": [
    "# int(client.exec_command('ps -C arecord | wc -l')[1].read())"
   ]
  },
  {
   "cell_type": "markdown",
   "metadata": {},
   "source": [
    "## <b> Class for Test Functions </b>"
   ]
  },
  {
   "cell_type": "code",
   "execution_count": 66,
   "metadata": {},
   "outputs": [],
   "source": [
    "class signalTests():    \n",
    "    def sweepTest(self, mode=\"logarithmic\", recordTime=15, runTime=10, sleepTime=5):\n",
    "        from paramiko import SSHClient\n",
    "        from scp import SCPClient\n",
    "        import datetime\n",
    "        import time\n",
    "        \n",
    "        now = datetime.datetime.now().strftime(\"%Y%m%d_%H%M%S\")\n",
    "        sample_rate = 48000\n",
    "\n",
    "        cmd = f'arecord -D plughw:1 -c2 -r {sample_rate} -f S16_LE -t wav -V stereo -v -d {recordTime} sweepTest_{now}.wav'\n",
    "\n",
    "        print(cmd)\n",
    "        ssh.exec_command(cmd)\n",
    "        \n",
    "        time.sleep(2.5) # Buffer time prior to enabling signal generator\n",
    "        \n",
    "        testName = \"Sweep Test\"\n",
    "        \n",
    "        sg.enable_sweep(mode, runTime)\n",
    "        sg.enable()\n",
    "        time.sleep(runTime)\n",
    "        sg.disable()\n",
    "        time.sleep(sleepTime)\n",
    "        sg.disable_sweep()\n",
    "        \n",
    "        print(f\"Finished {testName} Output\")\n",
    "        \n",
    "        while (int(ssh.exec_command('ps -C arecord | wc -l')[1].read()) > 1): # Checking for arecord to finish writing .wav file prior to pulling file using scp\n",
    "            time.sleep(1)\n",
    "        \n",
    "        scp.get(f'sweepTest_{now}.wav') # Command pulls file into .../Audio Files folder\n",
    "        \n",
    "    def sineTest(self, frequency=2000, amplitude=0.01, offset=0, recordTime=15, runTime=10, sleepTime=5):\n",
    "        from paramiko import SSHClient\n",
    "        from scp import SCPClient\n",
    "        import datetime\n",
    "\n",
    "        now = datetime.datetime.now().strftime(\"%Y%m%d_%H%M%S\")\n",
    "        sample_rate = 48000\n",
    "\n",
    "        cmd = f'arecord -D plughw:1 -c2 -r {sample_rate} -f S16_LE -t wav -V stereo -v -d {recordTime} sineTest_{now}.wav'\n",
    "\n",
    "        print(cmd)\n",
    "        ssh.exec_command(cmd)\n",
    "        \n",
    "        time.sleep(2.5)\n",
    "        \n",
    "        testName = \"Sine Wave Test\"\n",
    "        \n",
    "        sg.sine(frequency,amplitude,offset)\n",
    "        sg.enable()\n",
    "        time.sleep(runTime)\n",
    "        sg.disable()\n",
    "        time.sleep(sleepTime)\n",
    "\n",
    "        print(f\"Finished {testName} Output\")\n",
    "        \n",
    "        while (int(ssh.exec_command('ps -C arecord | wc -l')[1].read()) > 1):\n",
    "            time.sleep(1)\n",
    "        \n",
    "        scp.get(f'sineTest_{now}.wav')\n",
    "        \n",
    "    def whiteNoiseTest(self, bandwidth=500, amplitude=0.01, recordTime=15, runTime=10, sleepTime=2):\n",
    "        from paramiko import SSHClient\n",
    "        from scp import SCPClient\n",
    "        import datetime\n",
    "\n",
    "        now = datetime.datetime.now().strftime(\"%Y%m%d_%H%M%S\")\n",
    "        sample_rate = 48000\n",
    "\n",
    "        cmd = f'arecord -D plughw:1 -c2 -r {sample_rate} -f S16_LE -t wav -V stereo -v -d {recordTime} whiteNoiseTest_{now}.wav'\n",
    "\n",
    "        print(cmd)\n",
    "        ssh.exec_command(cmd)      \n",
    "        \n",
    "        time.sleep(2.5)\n",
    "        \n",
    "        testName = \"White Noise Test\"\n",
    "        \n",
    "        sg.whitenoise(bandwidth,amplitude)\n",
    "        sg.enable()\n",
    "        time.sleep(runTime)\n",
    "        sg.disable()\n",
    "        time.sleep(sleepTime)\n",
    "\n",
    "        print(f\"Finished {testName} Output\")\n",
    "        \n",
    "        while (int(ssh.exec_command('ps -C arecord | wc -l')[1].read()) > 1):\n",
    "            time.sleep(1)\n",
    "        \n",
    "        scp.get(f'whiteNoiseTest_{now}.wav')\n",
    "        \n",
    "    def burstTest(self, frequency=2000, ncycles=10, interval=1):\n",
    "        from paramiko import SSHClient\n",
    "        from scp import SCPClient\n",
    "        import datetime\n",
    "\n",
    "        now = datetime.datetime.now().strftime(\"%Y%m%d_%H%M%S\")\n",
    "        sample_rate = 48000\n",
    "\n",
    "        cmd = f'arecord -D plughw:1 -c2 -r {sample_rate} -f S16_LE -t wav -V stereo -v -d {runTime} burstTest_{now}.wav'\n",
    "\n",
    "        print(cmd)\n",
    "        ssh.exec_command(cmd)     \n",
    "        \n",
    "        time.sleep(2.5)\n",
    "        \n",
    "        testName = \"Burst Test\"\n",
    "\n",
    "        sg.enable_burst(frequency,ncycles,interval)\n",
    "\n",
    "        for i in range(0,ncycles,1):\n",
    "            print(f'Pulse number {i+1}')\n",
    "            Keysight.write(f\"FREQuency {frequency}\")\n",
    "            sg.enable()\n",
    "            time.sleep(interval)\n",
    "            sg.disable()\n",
    "            time.sleep(interval)\n",
    "\n",
    "        print(f\"Finished {testName} Output\")  \n",
    "        \n",
    "        while (int(ssh.exec_command('ps -C arecord | wc -l')[1].read()) > 1):\n",
    "            time.sleep(1)\n",
    "        \n",
    "        scp.get(f'burstTest_{now}.wav')\n",
    "        \n",
    "    def ambientTest(self):\n",
    "        from paramiko import SSHClient\n",
    "        from scp import SCPClient\n",
    "        import datetime\n",
    "\n",
    "        now = datetime.datetime.now().strftime(\"%Y%m%d_%H%M%S\")\n",
    "        sample_rate = 48000\n",
    "\n",
    "        cmd = f'arecord -D plughw:1 -c2 -r {sample_rate} -f S16_LE -t wav -V stereo -v -d {runTime} ambientTest_{now}.wav'\n",
    "\n",
    "        print(cmd)\n",
    "        ssh.exec_command(cmd)   \n",
    "        \n",
    "        time.sleep(2.5)\n",
    "        \n",
    "        testName = \"Ambient Test\"\n",
    "        \n",
    "        print(f\"Finished {testName} Output\")\n",
    "        \n",
    "        while (int(ssh.exec_command('ps -C arecord | wc -l')[1].read()) > 1):\n",
    "            time.sleep(1)\n",
    "        \n",
    "        scp.get(f'ambientTest_{now}.wav')"
   ]
  },
  {
   "cell_type": "markdown",
   "metadata": {
    "collapsed": "true"
   },
   "source": [
    "## <b> Test Cases </b>"
   ]
  },
  {
   "cell_type": "code",
   "execution_count": 29,
   "metadata": {},
   "outputs": [
    {
     "name": "stdout",
     "output_type": "stream",
     "text": [
      "Agilent Technologies,33512B,MY57401183,4.00-1.19-2.00-58-00\n"
     ]
    }
   ],
   "source": [
    "sg=keysight()\n",
    "sg.enable_high_impedance()"
   ]
  },
  {
   "cell_type": "code",
   "execution_count": 12,
   "metadata": {},
   "outputs": [],
   "source": [
    "import paramiko\n",
    "import time\n",
    "import datetime"
   ]
  },
  {
   "cell_type": "code",
   "execution_count": 31,
   "metadata": {},
   "outputs": [
    {
     "name": "stdout",
     "output_type": "stream",
     "text": [
      "Finished Sweep Test Output\n"
     ]
    }
   ],
   "source": [
    "# Sweep Test\n",
    "\n",
    "test1_name = \"Sweep Test\"\n",
    "mode = \"logarithmic\"\n",
    "sweep_period = 10\n",
    "\n",
    "sg.enable_sweep(mode,sweep_period)\n",
    "sg.enable()\n",
    "time.sleep(sweep_period)\n",
    "sg.disable()\n",
    "time.sleep(sweep_period)\n",
    "sg.disable_sweep()\n",
    "\n",
    "print(f\"Finished {test1_name} Output\")"
   ]
  },
  {
   "cell_type": "code",
   "execution_count": 13,
   "metadata": {},
   "outputs": [
    {
     "name": "stdout",
     "output_type": "stream",
     "text": [
      "Finished Sine Wave Test Output\n"
     ]
    }
   ],
   "source": [
    "# Continuous Sine Wave Test\n",
    "\n",
    "test2_name = \"Sine Wave Test\"\n",
    "frequency = 2000\n",
    "amplitude = 0.01 # Vrms\n",
    "offset = 0\n",
    "sleep_time = 2\n",
    "\n",
    "sg.sine(frequency,amplitude,offset)\n",
    "sg.enable()\n",
    "time.sleep(sleep_time)\n",
    "sg.disable()\n",
    "time.sleep(sleep_time)\n",
    "\n",
    "print(f\"Finished {test2_name} Output\")"
   ]
  },
  {
   "cell_type": "code",
   "execution_count": 376,
   "metadata": {},
   "outputs": [
    {
     "name": "stdout",
     "output_type": "stream",
     "text": [
      "Finished\n"
     ]
    }
   ],
   "source": [
    "# White Noise Test\n",
    "\n",
    "test3_name = \"White Noise Test\"\n",
    "bandwidth = 500\n",
    "amplitude = 0.01 # Vrms\n",
    "sleep_time = 2\n",
    "\n",
    "sg.whitenoise(bandwidth,amplitude)\n",
    "sg.enable()\n",
    "time.sleep(sleep_time)\n",
    "sg.disable()s\n",
    "time.sleep(sleep_time)\n",
    "\n",
    "print(f\"Finished {test3_name} Output\")"
   ]
  },
  {
   "cell_type": "code",
   "execution_count": 85,
   "metadata": {},
   "outputs": [
    {
     "name": "stdout",
     "output_type": "stream",
     "text": [
      "Pulsing at 2000 Hz\n",
      "Pulsing at 3000 Hz\n",
      "Pulsing at 4000 Hz\n",
      "Finished Burst Sweep Test Output\n"
     ]
    }
   ],
   "source": [
    "# Burst Sweep Test\n",
    "\n",
    "test4_name = \"Burst Sweep Test\"\n",
    "frequency = 2000\n",
    "ncycles = 10\n",
    "int_period = 1\n",
    "sleep_time = 2\n",
    "\n",
    "sg.enable_burst(frequency,ncycles,int_period)\n",
    "  \n",
    "for f in range(2000,5000,1000):\n",
    "    print(f'Pulsing at {f} Hz')\n",
    "    Keysight.write(f\"FREQuency {f}\")\n",
    "    sg.enable()\n",
    "    time.sleep(sleep_time)\n",
    "    sg.disable()\n",
    "    time.sleep(sleep_time)\n",
    "\n",
    "sg.disable_burst()\n",
    "    \n",
    "print(f\"Finished {test4_name} Output\")"
   ]
  },
  {
   "cell_type": "code",
   "execution_count": 17,
   "metadata": {},
   "outputs": [
    {
     "name": "stdout",
     "output_type": "stream",
     "text": [
      "Pulse number 1\n",
      "Pulse number 2\n",
      "Pulse number 3\n",
      "Pulse number 4\n",
      "Pulse number 5\n",
      "Pulse number 6\n",
      "Pulse number 7\n",
      "Pulse number 8\n",
      "Pulse number 9\n",
      "Pulse number 10\n",
      "Finished Constant Frequency Burst Test Output\n"
     ]
    }
   ],
   "source": [
    "# Burst Test Constant Frequency\n",
    "\n",
    "test5_name = \"Constant Frequency Burst Test\"\n",
    "frequency = 2000\n",
    "ncycles = 10\n",
    "int_period = 1\n",
    "sleep_time = 2\n",
    "\n",
    "sg.enable_burst(frequency,ncycles,int_period)\n",
    "\n",
    "for i in range(1,11,1):\n",
    "    print(f'Pulse number {i}')\n",
    "    Keysight.write(f\"FREQuency {frequency}\")\n",
    "    sg.enable()\n",
    "    time.sleep(sleep_time)\n",
    "    sg.disable()\n",
    "    time.sleep(sleep_time)\n",
    "          \n",
    "print(f\"Finished {test5_name} Output\")"
   ]
  },
  {
   "cell_type": "markdown",
   "metadata": {},
   "source": [
    "## <b> Frequency Response Characteristics Testing Script </b>"
   ]
  },
  {
   "cell_type": "code",
   "execution_count": 74,
   "metadata": {},
   "outputs": [],
   "source": [
    "%matplotlib inline\n",
    "import matplotlib.pyplot as plt\n",
    "\n",
    "from scipy.io import wavfile\n",
    "from scipy.fftpack import fft,fftfreq\n",
    "\n",
    "import IPython\n",
    "import numpy as np\n",
    "import soundfile\n",
    "\n",
    "import datetime\n",
    "\n",
    "st = signalTests()"
   ]
  },
  {
   "cell_type": "markdown",
   "metadata": {},
   "source": [
    "### Frequency Sweep Test"
   ]
  },
  {
   "cell_type": "code",
   "execution_count": 75,
   "metadata": {},
   "outputs": [
    {
     "name": "stdout",
     "output_type": "stream",
     "text": [
      "arecord -D plughw:1 -c2 -r 48000 -f S16_LE -t wav -V stereo -v -d 15 sweepTest_20210312_153137.wav\n",
      "Finished Sweep Test Output\n"
     ]
    }
   ],
   "source": [
    "# Running Frequency Sweep Test & recording audio from RPI Zero W \n",
    "\n",
    "mode=\"logarithmic\"\n",
    "runTime=10\n",
    "sleepTime=2\n",
    "recordTime=15 # Always specify a recordTime greater than runTime to build in a buffer at the end of audio recording\n",
    "\n",
    "now = datetime.datetime.now().strftime(\"%Y%m%d_%H%M%S\")\n",
    "\n",
    "st.sweepTest(mode,recordTime,runTime,sleepTime)"
   ]
  },
  {
   "cell_type": "code",
   "execution_count": 76,
   "metadata": {},
   "outputs": [
    {
     "data": {
      "text/plain": [
       "Text(0.5, 1.0, 'Sweep Test plot (Stereo)')"
      ]
     },
     "execution_count": 76,
     "metadata": {},
     "output_type": "execute_result"
    },
    {
     "data": {
      "image/png": "[encoded data removed]",
      "text/plain": [
       "<Figure size 432x288 with 1 Axes>"
      ]
     },
     "metadata": {
      "needs_background": "light"
     },
     "output_type": "display_data"
    }
   ],
   "source": [
    "data, samplerate = soundfile.read(f\"sweepTest_{now}.wav\")\n",
    "#data, samplerate = soundfile.read(\"sweepTest_20210312_152545.wav\")\n",
    "\n",
    "plt.plot(data[:recordTime*samplerate]) # Plotting stereo audio .wav file\n",
    "plt.title(\"Sweep Test plot (Stereo)\")"
   ]
  },
  {
   "cell_type": "code",
   "execution_count": 77,
   "metadata": {},
   "outputs": [
    {
     "data": {
      "text/plain": [
       "Text(0.5, 1.0, 'Sweep Test plot (Mono)')"
      ]
     },
     "execution_count": 77,
     "metadata": {},
     "output_type": "execute_result"
    },
    {
     "data": {
      "image/png": "[encoded data removed]",
      "text/plain": [
       "<Figure size 432x288 with 1 Axes>"
      ]
     },
     "metadata": {
      "needs_background": "light"
     },
     "output_type": "display_data"
    }
   ],
   "source": [
    "samples = data.shape[0]\n",
    "data = data[:,0]\n",
    "\n",
    "plt.plot(data[:recordTime*samplerate]) # Plotting mono audio .wav file\n",
    "plt.title(\"Sweep Test plot (Mono)\")"
   ]
  },
  {
   "cell_type": "code",
   "execution_count": 78,
   "metadata": {},
   "outputs": [
    {
     "data": {
      "text/plain": [
       "Text(0.5, 1.0, 'Sweep Test FFT Output plot (Mono)')"
      ]
     },
     "execution_count": 78,
     "metadata": {},
     "output_type": "execute_result"
    },
    {
     "data": {
      "image/png": "[encoded data removed]",
      "text/plain": [
       "<Figure size 432x288 with 1 Axes>"
      ]
     },
     "metadata": {
      "needs_background": "light"
     },
     "output_type": "display_data"
    }
   ],
   "source": [
    "datafft = fft(data)\n",
    "fftabs = abs(datafft)\n",
    "freqs = fftfreq(samples,1/samplerate)\n",
    "\n",
    "plt.xlim([10, samplerate/2])\n",
    "plt.xscale( 'log' )\n",
    "plt.grid( True )\n",
    "plt.xlabel( 'Frequency (Hz)' )\n",
    "plt.plot(freqs[:int(freqs.size/2)],fftabs[:int(freqs.size/2)]) # Plotting FFT output of mono wav file\n",
    "plt.title(\"Sweep Test FFT Output plot (Mono)\")"
   ]
  },
  {
   "cell_type": "markdown",
   "metadata": {},
   "source": [
    "### Sine Wave Test"
   ]
  },
  {
   "cell_type": "code",
   "execution_count": 70,
   "metadata": {},
   "outputs": [
    {
     "name": "stdout",
     "output_type": "stream",
     "text": [
      "arecord -D plughw:1 -c2 -r 48000 -f S16_LE -t wav -V stereo -v -d 15 sineTest_20210312_153005.wav\n",
      "Finished Sine Wave Test Output\n"
     ]
    }
   ],
   "source": [
    "# Running Sine Wave Test & recording audio from RPI Zero W \n",
    "\n",
    "frequency=2000\n",
    "amplitude=0.01 # Vrms\n",
    "offset=0\n",
    "runTime=10\n",
    "sleepTime=2\n",
    "recordTime=15\n",
    "\n",
    "now = datetime.datetime.now().strftime(\"%Y%m%d_%H%M%S\")\n",
    "\n",
    "st.sineTest(frequency,amplitude,offset,recordTime,runTime,sleepTime)"
   ]
  },
  {
   "cell_type": "code",
   "execution_count": 84,
   "metadata": {},
   "outputs": [
    {
     "ename": "RuntimeError",
     "evalue": "Error opening 'sineTest_20210312_153406.wav': System error.",
     "output_type": "error",
     "traceback": [
      "\u001b[1;31m---------------------------------------------------------------------------\u001b[0m",
      "\u001b[1;31mRuntimeError\u001b[0m                              Traceback (most recent call last)",
      "\u001b[1;32m<ipython-input-84-5287895fac0e>\u001b[0m in \u001b[0;36m<module>\u001b[1;34m\u001b[0m\n\u001b[1;32m----> 1\u001b[1;33m \u001b[0mdata\u001b[0m\u001b[1;33m,\u001b[0m \u001b[0msamplerate\u001b[0m \u001b[1;33m=\u001b[0m \u001b[0msoundfile\u001b[0m\u001b[1;33m.\u001b[0m\u001b[0mread\u001b[0m\u001b[1;33m(\u001b[0m\u001b[1;34mf\"sineTest_{now}.wav\"\u001b[0m\u001b[1;33m)\u001b[0m\u001b[1;33m\u001b[0m\u001b[1;33m\u001b[0m\u001b[0m\n\u001b[0m\u001b[0;32m      2\u001b[0m \u001b[1;31m#data, samplerate = soundfile.read(\"sineTest_20210312_134022.wav\")\u001b[0m\u001b[1;33m\u001b[0m\u001b[1;33m\u001b[0m\u001b[1;33m\u001b[0m\u001b[0m\n\u001b[0;32m      3\u001b[0m \u001b[1;33m\u001b[0m\u001b[0m\n\u001b[0;32m      4\u001b[0m \u001b[0mplt\u001b[0m\u001b[1;33m.\u001b[0m\u001b[0mplot\u001b[0m\u001b[1;33m(\u001b[0m\u001b[0mdata\u001b[0m\u001b[1;33m[\u001b[0m\u001b[1;33m:\u001b[0m\u001b[0mrecordTime\u001b[0m\u001b[1;33m*\u001b[0m\u001b[0msamplerate\u001b[0m\u001b[1;33m]\u001b[0m\u001b[1;33m)\u001b[0m \u001b[1;31m# Plotting stereo audio\u001b[0m\u001b[1;33m\u001b[0m\u001b[1;33m\u001b[0m\u001b[0m\n\u001b[0;32m      5\u001b[0m \u001b[0mplt\u001b[0m\u001b[1;33m.\u001b[0m\u001b[0mtitle\u001b[0m\u001b[1;33m(\u001b[0m\u001b[1;34mf\"Sine Wave Test plot at {frequency} Hz (Stereo)\"\u001b[0m\u001b[1;33m)\u001b[0m\u001b[1;33m\u001b[0m\u001b[1;33m\u001b[0m\u001b[0m\n",
      "\u001b[1;32m~\\anaconda3\\envs\\JupyterLab\\lib\\site-packages\\soundfile.py\u001b[0m in \u001b[0;36mread\u001b[1;34m(file, frames, start, stop, dtype, always_2d, fill_value, out, samplerate, channels, format, subtype, endian, closefd)\u001b[0m\n\u001b[0;32m    255\u001b[0m     \"\"\"\n\u001b[0;32m    256\u001b[0m     with SoundFile(file, 'r', samplerate, channels,\n\u001b[1;32m--> 257\u001b[1;33m                    subtype, endian, format, closefd) as f:\n\u001b[0m\u001b[0;32m    258\u001b[0m         \u001b[0mframes\u001b[0m \u001b[1;33m=\u001b[0m \u001b[0mf\u001b[0m\u001b[1;33m.\u001b[0m\u001b[0m_prepare_read\u001b[0m\u001b[1;33m(\u001b[0m\u001b[0mstart\u001b[0m\u001b[1;33m,\u001b[0m \u001b[0mstop\u001b[0m\u001b[1;33m,\u001b[0m \u001b[0mframes\u001b[0m\u001b[1;33m)\u001b[0m\u001b[1;33m\u001b[0m\u001b[1;33m\u001b[0m\u001b[0m\n\u001b[0;32m    259\u001b[0m         \u001b[0mdata\u001b[0m \u001b[1;33m=\u001b[0m \u001b[0mf\u001b[0m\u001b[1;33m.\u001b[0m\u001b[0mread\u001b[0m\u001b[1;33m(\u001b[0m\u001b[0mframes\u001b[0m\u001b[1;33m,\u001b[0m \u001b[0mdtype\u001b[0m\u001b[1;33m,\u001b[0m \u001b[0malways_2d\u001b[0m\u001b[1;33m,\u001b[0m \u001b[0mfill_value\u001b[0m\u001b[1;33m,\u001b[0m \u001b[0mout\u001b[0m\u001b[1;33m)\u001b[0m\u001b[1;33m\u001b[0m\u001b[1;33m\u001b[0m\u001b[0m\n",
      "\u001b[1;32m~\\anaconda3\\envs\\JupyterLab\\lib\\site-packages\\soundfile.py\u001b[0m in \u001b[0;36m__init__\u001b[1;34m(self, file, mode, samplerate, channels, subtype, endian, format, closefd)\u001b[0m\n\u001b[0;32m    627\u001b[0m         self._info = _create_info_struct(file, mode, samplerate, channels,\n\u001b[0;32m    628\u001b[0m                                          format, subtype, endian)\n\u001b[1;32m--> 629\u001b[1;33m         \u001b[0mself\u001b[0m\u001b[1;33m.\u001b[0m\u001b[0m_file\u001b[0m \u001b[1;33m=\u001b[0m \u001b[0mself\u001b[0m\u001b[1;33m.\u001b[0m\u001b[0m_open\u001b[0m\u001b[1;33m(\u001b[0m\u001b[0mfile\u001b[0m\u001b[1;33m,\u001b[0m \u001b[0mmode_int\u001b[0m\u001b[1;33m,\u001b[0m \u001b[0mclosefd\u001b[0m\u001b[1;33m)\u001b[0m\u001b[1;33m\u001b[0m\u001b[1;33m\u001b[0m\u001b[0m\n\u001b[0m\u001b[0;32m    630\u001b[0m         \u001b[1;32mif\u001b[0m \u001b[0mset\u001b[0m\u001b[1;33m(\u001b[0m\u001b[0mmode\u001b[0m\u001b[1;33m)\u001b[0m\u001b[1;33m.\u001b[0m\u001b[0missuperset\u001b[0m\u001b[1;33m(\u001b[0m\u001b[1;34m'r+'\u001b[0m\u001b[1;33m)\u001b[0m \u001b[1;32mand\u001b[0m \u001b[0mself\u001b[0m\u001b[1;33m.\u001b[0m\u001b[0mseekable\u001b[0m\u001b[1;33m(\u001b[0m\u001b[1;33m)\u001b[0m\u001b[1;33m:\u001b[0m\u001b[1;33m\u001b[0m\u001b[1;33m\u001b[0m\u001b[0m\n\u001b[0;32m    631\u001b[0m             \u001b[1;31m# Move write position to 0 (like in Python file objects)\u001b[0m\u001b[1;33m\u001b[0m\u001b[1;33m\u001b[0m\u001b[1;33m\u001b[0m\u001b[0m\n",
      "\u001b[1;32m~\\anaconda3\\envs\\JupyterLab\\lib\\site-packages\\soundfile.py\u001b[0m in \u001b[0;36m_open\u001b[1;34m(self, file, mode_int, closefd)\u001b[0m\n\u001b[0;32m   1182\u001b[0m             \u001b[1;32mraise\u001b[0m \u001b[0mTypeError\u001b[0m\u001b[1;33m(\u001b[0m\u001b[1;34m\"Invalid file: {0!r}\"\u001b[0m\u001b[1;33m.\u001b[0m\u001b[0mformat\u001b[0m\u001b[1;33m(\u001b[0m\u001b[0mself\u001b[0m\u001b[1;33m.\u001b[0m\u001b[0mname\u001b[0m\u001b[1;33m)\u001b[0m\u001b[1;33m)\u001b[0m\u001b[1;33m\u001b[0m\u001b[1;33m\u001b[0m\u001b[0m\n\u001b[0;32m   1183\u001b[0m         _error_check(_snd.sf_error(file_ptr),\n\u001b[1;32m-> 1184\u001b[1;33m                      \"Error opening {0!r}: \".format(self.name))\n\u001b[0m\u001b[0;32m   1185\u001b[0m         \u001b[1;32mif\u001b[0m \u001b[0mmode_int\u001b[0m \u001b[1;33m==\u001b[0m \u001b[0m_snd\u001b[0m\u001b[1;33m.\u001b[0m\u001b[0mSFM_WRITE\u001b[0m\u001b[1;33m:\u001b[0m\u001b[1;33m\u001b[0m\u001b[1;33m\u001b[0m\u001b[0m\n\u001b[0;32m   1186\u001b[0m             \u001b[1;31m# Due to a bug in libsndfile version <= 1.0.25, frames != 0\u001b[0m\u001b[1;33m\u001b[0m\u001b[1;33m\u001b[0m\u001b[1;33m\u001b[0m\u001b[0m\n",
      "\u001b[1;32m~\\anaconda3\\envs\\JupyterLab\\lib\\site-packages\\soundfile.py\u001b[0m in \u001b[0;36m_error_check\u001b[1;34m(err, prefix)\u001b[0m\n\u001b[0;32m   1355\u001b[0m     \u001b[1;32mif\u001b[0m \u001b[0merr\u001b[0m \u001b[1;33m!=\u001b[0m \u001b[1;36m0\u001b[0m\u001b[1;33m:\u001b[0m\u001b[1;33m\u001b[0m\u001b[1;33m\u001b[0m\u001b[0m\n\u001b[0;32m   1356\u001b[0m         \u001b[0merr_str\u001b[0m \u001b[1;33m=\u001b[0m \u001b[0m_snd\u001b[0m\u001b[1;33m.\u001b[0m\u001b[0msf_error_number\u001b[0m\u001b[1;33m(\u001b[0m\u001b[0merr\u001b[0m\u001b[1;33m)\u001b[0m\u001b[1;33m\u001b[0m\u001b[1;33m\u001b[0m\u001b[0m\n\u001b[1;32m-> 1357\u001b[1;33m         \u001b[1;32mraise\u001b[0m \u001b[0mRuntimeError\u001b[0m\u001b[1;33m(\u001b[0m\u001b[0mprefix\u001b[0m \u001b[1;33m+\u001b[0m \u001b[0m_ffi\u001b[0m\u001b[1;33m.\u001b[0m\u001b[0mstring\u001b[0m\u001b[1;33m(\u001b[0m\u001b[0merr_str\u001b[0m\u001b[1;33m)\u001b[0m\u001b[1;33m.\u001b[0m\u001b[0mdecode\u001b[0m\u001b[1;33m(\u001b[0m\u001b[1;34m'utf-8'\u001b[0m\u001b[1;33m,\u001b[0m \u001b[1;34m'replace'\u001b[0m\u001b[1;33m)\u001b[0m\u001b[1;33m)\u001b[0m\u001b[1;33m\u001b[0m\u001b[1;33m\u001b[0m\u001b[0m\n\u001b[0m\u001b[0;32m   1358\u001b[0m \u001b[1;33m\u001b[0m\u001b[0m\n\u001b[0;32m   1359\u001b[0m \u001b[1;33m\u001b[0m\u001b[0m\n",
      "\u001b[1;31mRuntimeError\u001b[0m: Error opening 'sineTest_20210312_153406.wav': System error."
     ]
    }
   ],
   "source": [
    "data, samplerate = soundfile.read(f\"sineTest_{now}.wav\")\n",
    "#data, samplerate = soundfile.read(\"sineTest_20210312_134022.wav\")\n",
    "\n",
    "plt.plot(data[:recordTime*samplerate]) # Plotting stereo audio\n",
    "plt.title(f\"Sine Wave Test plot at {frequency} Hz (Stereo)\")"
   ]
  },
  {
   "cell_type": "code",
   "execution_count": 72,
   "metadata": {},
   "outputs": [
    {
     "data": {
      "text/plain": [
       "Text(0.5, 1.0, 'Sine Wave Test plot at 2000 Hz (Mono)')"
      ]
     },
     "execution_count": 72,
     "metadata": {},
     "output_type": "execute_result"
    },
    {
     "data": {
      "image/png": "[encoded data removed]",
      "text/plain": [
       "<Figure size 432x288 with 1 Axes>"
      ]
     },
     "metadata": {
      "needs_background": "light"
     },
     "output_type": "display_data"
    }
   ],
   "source": [
    "samples = data.shape[0]\n",
    "data = data[:,0]\n",
    "\n",
    "plt.plot(data[:recordTime*samplerate]) # Plotting mono audio\n",
    "plt.title(f\"Sine Wave Test plot at {frequency} Hz (Mono)\")"
   ]
  },
  {
   "cell_type": "code",
   "execution_count": 73,
   "metadata": {},
   "outputs": [
    {
     "data": {
      "text/plain": [
       "Text(0.5, 1.0, 'Sine Wave Test FFT Output plot at 2000 Hz')"
      ]
     },
     "execution_count": 73,
     "metadata": {},
     "output_type": "execute_result"
    },
    {
     "data": {
      "image/png": "[encoded data removed]",
      "text/plain": [
       "<Figure size 432x288 with 1 Axes>"
      ]
     },
     "metadata": {
      "needs_background": "light"
     },
     "output_type": "display_data"
    }
   ],
   "source": [
    "datafft = fft(data)\n",
    "fftabs = abs(datafft)\n",
    "freqs = fftfreq(samples,1/samplerate)\n",
    "plt.xlim([10, samplerate/2])\n",
    "plt.xscale( 'linear' )\n",
    "plt.grid( True )\n",
    "plt.xlabel( 'Frequency (Hz)' )\n",
    "plt.plot(freqs[:int(freqs.size/2)],fftabs[:int(freqs.size/2)])\n",
    "plt.title(f\"Sine Wave Test FFT Output plot at {frequency} Hz\")"
   ]
  },
  {
   "cell_type": "markdown",
   "metadata": {},
   "source": [
    "### White Noise Test"
   ]
  },
  {
   "cell_type": "code",
   "execution_count": 79,
   "metadata": {},
   "outputs": [
    {
     "name": "stdout",
     "output_type": "stream",
     "text": [
      "arecord -D plughw:1 -c2 -r 48000 -f S16_LE -t wav -V stereo -v -d 15 whiteNoiseTest_20210312_153252.wav\n",
      "Finished White Noise Test Output\n"
     ]
    }
   ],
   "source": [
    "# Running White Noise Test & recording audio from RPI Zero W\n",
    "\n",
    "bandwidth=500\n",
    "amplitude=0.01 # Vrms\n",
    "runTime=10\n",
    "sleepTime=2\n",
    "recordTime=15\n",
    "\n",
    "now = datetime.datetime.now().strftime(\"%Y%m%d_%H%M%S\")\n",
    "\n",
    "st.whiteNoiseTest(bandwidth,amplitude,recordTime,runTime,sleepTime)"
   ]
  },
  {
   "cell_type": "code",
   "execution_count": 80,
   "metadata": {},
   "outputs": [
    {
     "data": {
      "text/plain": [
       "Text(0.5, 1.0, 'White Noise Test plot (Stereo)')"
      ]
     },
     "execution_count": 80,
     "metadata": {},
     "output_type": "execute_result"
    },
    {
     "data": {
      "image/png": "[encoded data removed]",
      "text/plain": [
       "<Figure size 432x288 with 1 Axes>"
      ]
     },
     "metadata": {
      "needs_background": "light"
     },
     "output_type": "display_data"
    }
   ],
   "source": [
    "data, samplerate = soundfile.read(f\"whiteNoiseTest_{now}.wav\")\n",
    "#data, samplerate = soundfile.read(\"whiteNoiseTest_20210312_134138.wav\")\n",
    "\n",
    "plt.plot(data[:recordTime*samplerate]) # Plotting stereo audio\n",
    "plt.title(\"White Noise Test plot (Stereo)\")"
   ]
  },
  {
   "cell_type": "code",
   "execution_count": 81,
   "metadata": {},
   "outputs": [
    {
     "data": {
      "text/plain": [
       "Text(0.5, 1.0, 'White Noise Test plot (Mono)')"
      ]
     },
     "execution_count": 81,
     "metadata": {},
     "output_type": "execute_result"
    },
    {
     "data": {
      "image/png": "[encoded data removed]",
      "text/plain": [
       "<Figure size 432x288 with 1 Axes>"
      ]
     },
     "metadata": {
      "needs_background": "light"
     },
     "output_type": "display_data"
    }
   ],
   "source": [
    "samples = data.shape[0]\n",
    "data = data[:,0]\n",
    "\n",
    "plt.plot(data[:recordTime*samplerate]) # Plotting mono audio\n",
    "plt.title(\"White Noise Test plot (Mono)\")"
   ]
  },
  {
   "cell_type": "code",
   "execution_count": 82,
   "metadata": {},
   "outputs": [
    {
     "data": {
      "text/plain": [
       "Text(0.5, 1.0, 'White Noise Test FFT Output plot')"
      ]
     },
     "execution_count": 82,
     "metadata": {},
     "output_type": "execute_result"
    },
    {
     "data": {
      "image/png": "[encoded data removed]",
      "text/plain": [
       "<Figure size 432x288 with 1 Axes>"
      ]
     },
     "metadata": {
      "needs_background": "light"
     },
     "output_type": "display_data"
    }
   ],
   "source": [
    "datafft = fft(data)\n",
    "fftabs = abs(datafft)\n",
    "freqs = fftfreq(samples,1/samplerate)\n",
    "plt.xlim([10, samplerate/2])\n",
    "plt.xscale( 'log' )\n",
    "plt.grid( True )\n",
    "plt.xlabel( 'Frequency (Hz)' )\n",
    "plt.plot(freqs[:int(freqs.size/2)],fftabs[:int(freqs.size/2)])\n",
    "plt.title(\"White Noise Test FFT Output plot\")"
   ]
  },
  {
   "cell_type": "markdown",
   "metadata": {},
   "source": [
    "### Burst Test"
   ]
  },
  {
   "cell_type": "code",
   "execution_count": 83,
   "metadata": {},
   "outputs": [
    {
     "name": "stdout",
     "output_type": "stream",
     "text": [
      "arecord -D plughw:1 -c2 -r 48000 -f S16_LE -t wav -V stereo -v -d 10 burstTest_20210312_153406.wav\n",
      "Pulse number 0\n",
      "Pulse number 1\n",
      "Pulse number 2\n",
      "Pulse number 3\n",
      "Pulse number 4\n",
      "Finished Burst Test Output\n"
     ]
    }
   ],
   "source": [
    "# Running Burst Test & recording audio from RPI Zero W\n",
    "\n",
    "frequency=2000\n",
    "ncycles=5\n",
    "interval=1\n",
    "\n",
    "now = datetime.datetime.now().strftime(\"%Y%m%d_%H%M%S\")\n",
    "\n",
    "st.burstTest(frequency,ncycles,interval)"
   ]
  },
  {
   "cell_type": "code",
   "execution_count": 12,
   "metadata": {},
   "outputs": [
    {
     "data": {
      "text/plain": [
       "Text(0.5, 1.0, 'Burst Test plot (Stereo)')"
      ]
     },
     "execution_count": 12,
     "metadata": {},
     "output_type": "execute_result"
    },
    {
     "data": {
      "image/png": "[encoded data removed]",
      "text/plain": [
       "<Figure size 432x288 with 1 Axes>"
      ]
     },
     "metadata": {
      "needs_background": "light"
     },
     "output_type": "display_data"
    }
   ],
   "source": [
    "# data, samplerate = soundfile.read(f\"burstTest_{now}.wav\")\n",
    "data, samplerate = soundfile.read(\"burstTest_20210312_134736.wav\")\n",
    "\n",
    "plt.plot(data[:recordTime*samplerate]) # Plotting stereo audio\n",
    "plt.title(\"Burst Test plot (Stereo)\")"
   ]
  },
  {
   "cell_type": "code",
   "execution_count": 13,
   "metadata": {},
   "outputs": [
    {
     "data": {
      "text/plain": [
       "Text(0.5, 1.0, 'Burst Test plot (Mono)')"
      ]
     },
     "execution_count": 13,
     "metadata": {},
     "output_type": "execute_result"
    },
    {
     "data": {
      "image/png": "[encoded data removed]",
      "text/plain": [
       "<Figure size 432x288 with 1 Axes>"
      ]
     },
     "metadata": {
      "needs_background": "light"
     },
     "output_type": "display_data"
    }
   ],
   "source": [
    "samples = data.shape[0]\n",
    "data = data[:,0]\n",
    "\n",
    "plt.plot(data[:recordTime*samplerate]) # Plotting mono audio\n",
    "plt.title(\"Burst Test plot (Mono)\")"
   ]
  },
  {
   "cell_type": "code",
   "execution_count": 14,
   "metadata": {},
   "outputs": [
    {
     "data": {
      "text/plain": [
       "Text(0.5, 1.0, 'Burst Test FFT Output plot')"
      ]
     },
     "execution_count": 14,
     "metadata": {},
     "output_type": "execute_result"
    },
    {
     "data": {
      "image/png": "[encoded data removed]",
      "text/plain": [
       "<Figure size 432x288 with 1 Axes>"
      ]
     },
     "metadata": {
      "needs_background": "light"
     },
     "output_type": "display_data"
    }
   ],
   "source": [
    "datafft = fft(data)\n",
    "fftabs = abs(datafft)\n",
    "freqs = fftfreq(samples,1/samplerate)\n",
    "plt.xlim([10, samplerate/2])\n",
    "plt.xscale( 'log' )\n",
    "plt.grid( True )\n",
    "plt.xlabel( 'Frequency (Hz)' )\n",
    "plt.plot(freqs[:int(freqs.size/2)],fftabs[:int(freqs.size/2)])\n",
    "plt.title(\"Burst Test FFT Output plot\")"
   ]
  },
  {
   "cell_type": "markdown",
   "metadata": {},
   "source": [
    "### Ambient Noise Test"
   ]
  },
  {
   "cell_type": "code",
   "execution_count": 22,
   "metadata": {},
   "outputs": [
    {
     "name": "stdout",
     "output_type": "stream",
     "text": [
      "arecord -D plughw:1 -c2 -r 48000 -f S16_LE -t wav -V stereo -v -d 5 ambientTest_20210312_104319.wav\n",
      "Finished Ambient Test Output\n"
     ]
    }
   ],
   "source": [
    "# Running Ambient Noise Test & recording audio from RPI Zero W\n",
    "\n",
    "now = datetime.datetime.now().strftime(\"%Y%m%d_%H%M%S\")\n",
    "\n",
    "st.ambientTest()"
   ]
  },
  {
   "cell_type": "code",
   "execution_count": null,
   "metadata": {},
   "outputs": [],
   "source": [
    "# data, samplerate = soundfile.read(f\"ambientTest_{now}.wav\")\n",
    "data, samplerate = soundfile.read(\"ambientTest_20210312_104319.wav\")\n",
    "\n",
    "plt.plot(data[:recordTime*samplerate]) # Plotting stereo audio\n",
    "plt.title(\"Burst Test plot (Stereo)\")"
   ]
  },
  {
   "cell_type": "code",
   "execution_count": null,
   "metadata": {},
   "outputs": [],
   "source": [
    "samples = data.shape[0]\n",
    "data = data[:,0]\n",
    "\n",
    "plt.plot(data[:recordTime*samplerate]) # Plotting mono audio\n",
    "plt.title(\"Burst Test plot (Mono)\")"
   ]
  },
  {
   "cell_type": "code",
   "execution_count": null,
   "metadata": {},
   "outputs": [],
   "source": [
    "datafft = fft(data)\n",
    "fftabs = abs(datafft)\n",
    "freqs = fftfreq(samples,1/samplerate)\n",
    "plt.xlim([10, samplerate/2])\n",
    "plt.xscale( 'log' )\n",
    "plt.grid( True )\n",
    "plt.xlabel( 'Frequency (Hz)' )\n",
    "plt.plot(freqs[:int(freqs.size/2)],fftabs[:int(freqs.size/2)])\n",
    "plt.title(\"Burst Test FFT Output plot\")"
   ]
  }
 ],
 "metadata": {
  "kernelspec": {
   "display_name": "Python 3",
   "language": "python",
   "name": "python3"
  },
  "language_info": {
   "codemirror_mode": {
    "name": "ipython",
    "version": 3
   },
   "file_extension": ".py",
   "mimetype": "text/x-python",
   "name": "python",
   "nbconvert_exporter": "python",
   "pygments_lexer": "ipython3",
   "version": "3.7.9"
  }
 },
 "nbformat": 4,
 "nbformat_minor": 4
}
