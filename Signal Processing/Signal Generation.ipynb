{
 "cells": [
  {
   "cell_type": "markdown",
   "metadata": {},
   "source": [
    " ## <b>Connecting vxi11 compatible devices via Ethernet </b>"
   ]
  },
  {
   "cell_type": "code",
   "execution_count": 10,
   "metadata": {},
   "outputs": [
    {
     "name": "stdout",
     "output_type": "stream",
     "text": [
      "Requirement already satisfied: python-vxi11 in c:\\users\\ricky\\anaconda3\\envs\\jupyterlab\\lib\\site-packages (0.9)\n"
     ]
    }
   ],
   "source": [
    "!pip3 install python-vxi11"
   ]
  },
  {
   "cell_type": "code",
   "execution_count": 1,
   "metadata": {},
   "outputs": [],
   "source": [
    "import vxi11\n",
    "import time"
   ]
  },
  {
   "cell_type": "code",
   "execution_count": 2,
   "metadata": {},
   "outputs": [],
   "source": [
    "keysight_ip = '192.168.0.8'"
   ]
  },
  {
   "cell_type": "code",
   "execution_count": 3,
   "metadata": {},
   "outputs": [
    {
     "name": "stdout",
     "output_type": "stream",
     "text": [
      "Agilent Technologies,33512B,MY57401183,4.00-1.19-2.00-58-00\n"
     ]
    }
   ],
   "source": [
    "Keysight = vxi11.Instrument(keysight_ip)\n",
    "print(Keysight.ask(\"*IDN?\"))"
   ]
  },
  {
   "cell_type": "code",
   "execution_count": 4,
   "metadata": {},
   "outputs": [],
   "source": [
    "rigol_ip = '192.168.0.14'"
   ]
  },
  {
   "cell_type": "code",
   "execution_count": 5,
   "metadata": {},
   "outputs": [
    {
     "name": "stdout",
     "output_type": "stream",
     "text": [
      "RIGOL TECHNOLOGIES,DS1074Z,DS1ZA193816619,00.04.04.SP3\n"
     ]
    }
   ],
   "source": [
    "Rigol = vxi11.Instrument(rigol_ip)\n",
    "print(Rigol.ask(\"*IDN?\"))"
   ]
  },
  {
   "cell_type": "markdown",
   "metadata": {},
   "source": [
    "## <b> Interacting with a Brüel & Kjær Type 3050-B-6 using Python </b>"
   ]
  },
  {
   "cell_type": "code",
   "execution_count": 102,
   "metadata": {},
   "outputs": [
    {
     "name": "stdout",
     "output_type": "stream",
     "text": [
      "C:\\Users\\ricky\\Documents\\VM3000-Microphones\\PyBnK\n"
     ]
    }
   ],
   "source": [
    "cd ../PyBnK"
   ]
  },
  {
   "cell_type": "code",
   "execution_count": 7,
   "metadata": {},
   "outputs": [],
   "source": [
    "from bnk.bnk import WavHeader, OpenWav, Instrument"
   ]
  },
  {
   "cell_type": "code",
   "execution_count": 9,
   "metadata": {},
   "outputs": [
    {
     "ename": "ConnectionError",
     "evalue": "HTTPConnectionPool(host='192.168.0.9', port=80): Max retries exceeded with url: /rest/rec/onchange?last=0 (Caused by NewConnectionError('<urllib3.connection.HTTPConnection object at 0x0000019DD47E9688>: Failed to establish a new connection: [WinError 10060] A connection attempt failed because the connected party did not properly respond after a period of time, or established connection failed because connected host has failed to respond'))",
     "output_type": "error",
     "traceback": [
      "\u001b[1;31m---------------------------------------------------------------------------\u001b[0m",
      "\u001b[1;31mTimeoutError\u001b[0m                              Traceback (most recent call last)",
      "\u001b[1;32m~\\anaconda3\\envs\\JupyterLab\\lib\\site-packages\\urllib3\\connection.py\u001b[0m in \u001b[0;36m_new_conn\u001b[1;34m(self)\u001b[0m\n\u001b[0;32m    159\u001b[0m             conn = connection.create_connection(\n\u001b[1;32m--> 160\u001b[1;33m                 \u001b[1;33m(\u001b[0m\u001b[0mself\u001b[0m\u001b[1;33m.\u001b[0m\u001b[0m_dns_host\u001b[0m\u001b[1;33m,\u001b[0m \u001b[0mself\u001b[0m\u001b[1;33m.\u001b[0m\u001b[0mport\u001b[0m\u001b[1;33m)\u001b[0m\u001b[1;33m,\u001b[0m \u001b[0mself\u001b[0m\u001b[1;33m.\u001b[0m\u001b[0mtimeout\u001b[0m\u001b[1;33m,\u001b[0m \u001b[1;33m**\u001b[0m\u001b[0mextra_kw\u001b[0m\u001b[1;33m\u001b[0m\u001b[1;33m\u001b[0m\u001b[0m\n\u001b[0m\u001b[0;32m    161\u001b[0m             )\n",
      "\u001b[1;32m~\\anaconda3\\envs\\JupyterLab\\lib\\site-packages\\urllib3\\util\\connection.py\u001b[0m in \u001b[0;36mcreate_connection\u001b[1;34m(address, timeout, source_address, socket_options)\u001b[0m\n\u001b[0;32m     83\u001b[0m     \u001b[1;32mif\u001b[0m \u001b[0merr\u001b[0m \u001b[1;32mis\u001b[0m \u001b[1;32mnot\u001b[0m \u001b[1;32mNone\u001b[0m\u001b[1;33m:\u001b[0m\u001b[1;33m\u001b[0m\u001b[1;33m\u001b[0m\u001b[0m\n\u001b[1;32m---> 84\u001b[1;33m         \u001b[1;32mraise\u001b[0m \u001b[0merr\u001b[0m\u001b[1;33m\u001b[0m\u001b[1;33m\u001b[0m\u001b[0m\n\u001b[0m\u001b[0;32m     85\u001b[0m \u001b[1;33m\u001b[0m\u001b[0m\n",
      "\u001b[1;32m~\\anaconda3\\envs\\JupyterLab\\lib\\site-packages\\urllib3\\util\\connection.py\u001b[0m in \u001b[0;36mcreate_connection\u001b[1;34m(address, timeout, source_address, socket_options)\u001b[0m\n\u001b[0;32m     73\u001b[0m                 \u001b[0msock\u001b[0m\u001b[1;33m.\u001b[0m\u001b[0mbind\u001b[0m\u001b[1;33m(\u001b[0m\u001b[0msource_address\u001b[0m\u001b[1;33m)\u001b[0m\u001b[1;33m\u001b[0m\u001b[1;33m\u001b[0m\u001b[0m\n\u001b[1;32m---> 74\u001b[1;33m             \u001b[0msock\u001b[0m\u001b[1;33m.\u001b[0m\u001b[0mconnect\u001b[0m\u001b[1;33m(\u001b[0m\u001b[0msa\u001b[0m\u001b[1;33m)\u001b[0m\u001b[1;33m\u001b[0m\u001b[1;33m\u001b[0m\u001b[0m\n\u001b[0m\u001b[0;32m     75\u001b[0m             \u001b[1;32mreturn\u001b[0m \u001b[0msock\u001b[0m\u001b[1;33m\u001b[0m\u001b[1;33m\u001b[0m\u001b[0m\n",
      "\u001b[1;31mTimeoutError\u001b[0m: [WinError 10060] A connection attempt failed because the connected party did not properly respond after a period of time, or established connection failed because connected host has failed to respond",
      "\nDuring handling of the above exception, another exception occurred:\n",
      "\u001b[1;31mNewConnectionError\u001b[0m                        Traceback (most recent call last)",
      "\u001b[1;32m~\\anaconda3\\envs\\JupyterLab\\lib\\site-packages\\urllib3\\connectionpool.py\u001b[0m in \u001b[0;36murlopen\u001b[1;34m(self, method, url, body, headers, retries, redirect, assert_same_host, timeout, pool_timeout, release_conn, chunked, body_pos, **response_kw)\u001b[0m\n\u001b[0;32m    676\u001b[0m                 \u001b[0mheaders\u001b[0m\u001b[1;33m=\u001b[0m\u001b[0mheaders\u001b[0m\u001b[1;33m,\u001b[0m\u001b[1;33m\u001b[0m\u001b[1;33m\u001b[0m\u001b[0m\n\u001b[1;32m--> 677\u001b[1;33m                 \u001b[0mchunked\u001b[0m\u001b[1;33m=\u001b[0m\u001b[0mchunked\u001b[0m\u001b[1;33m,\u001b[0m\u001b[1;33m\u001b[0m\u001b[1;33m\u001b[0m\u001b[0m\n\u001b[0m\u001b[0;32m    678\u001b[0m             )\n",
      "\u001b[1;32m~\\anaconda3\\envs\\JupyterLab\\lib\\site-packages\\urllib3\\connectionpool.py\u001b[0m in \u001b[0;36m_make_request\u001b[1;34m(self, conn, method, url, timeout, chunked, **httplib_request_kw)\u001b[0m\n\u001b[0;32m    391\u001b[0m         \u001b[1;32melse\u001b[0m\u001b[1;33m:\u001b[0m\u001b[1;33m\u001b[0m\u001b[1;33m\u001b[0m\u001b[0m\n\u001b[1;32m--> 392\u001b[1;33m             \u001b[0mconn\u001b[0m\u001b[1;33m.\u001b[0m\u001b[0mrequest\u001b[0m\u001b[1;33m(\u001b[0m\u001b[0mmethod\u001b[0m\u001b[1;33m,\u001b[0m \u001b[0murl\u001b[0m\u001b[1;33m,\u001b[0m \u001b[1;33m**\u001b[0m\u001b[0mhttplib_request_kw\u001b[0m\u001b[1;33m)\u001b[0m\u001b[1;33m\u001b[0m\u001b[1;33m\u001b[0m\u001b[0m\n\u001b[0m\u001b[0;32m    393\u001b[0m \u001b[1;33m\u001b[0m\u001b[0m\n",
      "\u001b[1;32m~\\anaconda3\\envs\\JupyterLab\\lib\\http\\client.py\u001b[0m in \u001b[0;36mrequest\u001b[1;34m(self, method, url, body, headers, encode_chunked)\u001b[0m\n\u001b[0;32m   1276\u001b[0m         \u001b[1;34m\"\"\"Send a complete request to the server.\"\"\"\u001b[0m\u001b[1;33m\u001b[0m\u001b[1;33m\u001b[0m\u001b[0m\n\u001b[1;32m-> 1277\u001b[1;33m         \u001b[0mself\u001b[0m\u001b[1;33m.\u001b[0m\u001b[0m_send_request\u001b[0m\u001b[1;33m(\u001b[0m\u001b[0mmethod\u001b[0m\u001b[1;33m,\u001b[0m \u001b[0murl\u001b[0m\u001b[1;33m,\u001b[0m \u001b[0mbody\u001b[0m\u001b[1;33m,\u001b[0m \u001b[0mheaders\u001b[0m\u001b[1;33m,\u001b[0m \u001b[0mencode_chunked\u001b[0m\u001b[1;33m)\u001b[0m\u001b[1;33m\u001b[0m\u001b[1;33m\u001b[0m\u001b[0m\n\u001b[0m\u001b[0;32m   1278\u001b[0m \u001b[1;33m\u001b[0m\u001b[0m\n",
      "\u001b[1;32m~\\anaconda3\\envs\\JupyterLab\\lib\\http\\client.py\u001b[0m in \u001b[0;36m_send_request\u001b[1;34m(self, method, url, body, headers, encode_chunked)\u001b[0m\n\u001b[0;32m   1322\u001b[0m             \u001b[0mbody\u001b[0m \u001b[1;33m=\u001b[0m \u001b[0m_encode\u001b[0m\u001b[1;33m(\u001b[0m\u001b[0mbody\u001b[0m\u001b[1;33m,\u001b[0m \u001b[1;34m'body'\u001b[0m\u001b[1;33m)\u001b[0m\u001b[1;33m\u001b[0m\u001b[1;33m\u001b[0m\u001b[0m\n\u001b[1;32m-> 1323\u001b[1;33m         \u001b[0mself\u001b[0m\u001b[1;33m.\u001b[0m\u001b[0mendheaders\u001b[0m\u001b[1;33m(\u001b[0m\u001b[0mbody\u001b[0m\u001b[1;33m,\u001b[0m \u001b[0mencode_chunked\u001b[0m\u001b[1;33m=\u001b[0m\u001b[0mencode_chunked\u001b[0m\u001b[1;33m)\u001b[0m\u001b[1;33m\u001b[0m\u001b[1;33m\u001b[0m\u001b[0m\n\u001b[0m\u001b[0;32m   1324\u001b[0m \u001b[1;33m\u001b[0m\u001b[0m\n",
      "\u001b[1;32m~\\anaconda3\\envs\\JupyterLab\\lib\\http\\client.py\u001b[0m in \u001b[0;36mendheaders\u001b[1;34m(self, message_body, encode_chunked)\u001b[0m\n\u001b[0;32m   1271\u001b[0m             \u001b[1;32mraise\u001b[0m \u001b[0mCannotSendHeader\u001b[0m\u001b[1;33m(\u001b[0m\u001b[1;33m)\u001b[0m\u001b[1;33m\u001b[0m\u001b[1;33m\u001b[0m\u001b[0m\n\u001b[1;32m-> 1272\u001b[1;33m         \u001b[0mself\u001b[0m\u001b[1;33m.\u001b[0m\u001b[0m_send_output\u001b[0m\u001b[1;33m(\u001b[0m\u001b[0mmessage_body\u001b[0m\u001b[1;33m,\u001b[0m \u001b[0mencode_chunked\u001b[0m\u001b[1;33m=\u001b[0m\u001b[0mencode_chunked\u001b[0m\u001b[1;33m)\u001b[0m\u001b[1;33m\u001b[0m\u001b[1;33m\u001b[0m\u001b[0m\n\u001b[0m\u001b[0;32m   1273\u001b[0m \u001b[1;33m\u001b[0m\u001b[0m\n",
      "\u001b[1;32m~\\anaconda3\\envs\\JupyterLab\\lib\\http\\client.py\u001b[0m in \u001b[0;36m_send_output\u001b[1;34m(self, message_body, encode_chunked)\u001b[0m\n\u001b[0;32m   1031\u001b[0m         \u001b[1;32mdel\u001b[0m \u001b[0mself\u001b[0m\u001b[1;33m.\u001b[0m\u001b[0m_buffer\u001b[0m\u001b[1;33m[\u001b[0m\u001b[1;33m:\u001b[0m\u001b[1;33m]\u001b[0m\u001b[1;33m\u001b[0m\u001b[1;33m\u001b[0m\u001b[0m\n\u001b[1;32m-> 1032\u001b[1;33m         \u001b[0mself\u001b[0m\u001b[1;33m.\u001b[0m\u001b[0msend\u001b[0m\u001b[1;33m(\u001b[0m\u001b[0mmsg\u001b[0m\u001b[1;33m)\u001b[0m\u001b[1;33m\u001b[0m\u001b[1;33m\u001b[0m\u001b[0m\n\u001b[0m\u001b[0;32m   1033\u001b[0m \u001b[1;33m\u001b[0m\u001b[0m\n",
      "\u001b[1;32m~\\anaconda3\\envs\\JupyterLab\\lib\\http\\client.py\u001b[0m in \u001b[0;36msend\u001b[1;34m(self, data)\u001b[0m\n\u001b[0;32m    971\u001b[0m             \u001b[1;32mif\u001b[0m \u001b[0mself\u001b[0m\u001b[1;33m.\u001b[0m\u001b[0mauto_open\u001b[0m\u001b[1;33m:\u001b[0m\u001b[1;33m\u001b[0m\u001b[1;33m\u001b[0m\u001b[0m\n\u001b[1;32m--> 972\u001b[1;33m                 \u001b[0mself\u001b[0m\u001b[1;33m.\u001b[0m\u001b[0mconnect\u001b[0m\u001b[1;33m(\u001b[0m\u001b[1;33m)\u001b[0m\u001b[1;33m\u001b[0m\u001b[1;33m\u001b[0m\u001b[0m\n\u001b[0m\u001b[0;32m    973\u001b[0m             \u001b[1;32melse\u001b[0m\u001b[1;33m:\u001b[0m\u001b[1;33m\u001b[0m\u001b[1;33m\u001b[0m\u001b[0m\n",
      "\u001b[1;32m~\\anaconda3\\envs\\JupyterLab\\lib\\site-packages\\urllib3\\connection.py\u001b[0m in \u001b[0;36mconnect\u001b[1;34m(self)\u001b[0m\n\u001b[0;32m    186\u001b[0m     \u001b[1;32mdef\u001b[0m \u001b[0mconnect\u001b[0m\u001b[1;33m(\u001b[0m\u001b[0mself\u001b[0m\u001b[1;33m)\u001b[0m\u001b[1;33m:\u001b[0m\u001b[1;33m\u001b[0m\u001b[1;33m\u001b[0m\u001b[0m\n\u001b[1;32m--> 187\u001b[1;33m         \u001b[0mconn\u001b[0m \u001b[1;33m=\u001b[0m \u001b[0mself\u001b[0m\u001b[1;33m.\u001b[0m\u001b[0m_new_conn\u001b[0m\u001b[1;33m(\u001b[0m\u001b[1;33m)\u001b[0m\u001b[1;33m\u001b[0m\u001b[1;33m\u001b[0m\u001b[0m\n\u001b[0m\u001b[0;32m    188\u001b[0m         \u001b[0mself\u001b[0m\u001b[1;33m.\u001b[0m\u001b[0m_prepare_conn\u001b[0m\u001b[1;33m(\u001b[0m\u001b[0mconn\u001b[0m\u001b[1;33m)\u001b[0m\u001b[1;33m\u001b[0m\u001b[1;33m\u001b[0m\u001b[0m\n",
      "\u001b[1;32m~\\anaconda3\\envs\\JupyterLab\\lib\\site-packages\\urllib3\\connection.py\u001b[0m in \u001b[0;36m_new_conn\u001b[1;34m(self)\u001b[0m\n\u001b[0;32m    171\u001b[0m             raise NewConnectionError(\n\u001b[1;32m--> 172\u001b[1;33m                 \u001b[0mself\u001b[0m\u001b[1;33m,\u001b[0m \u001b[1;34m\"Failed to establish a new connection: %s\"\u001b[0m \u001b[1;33m%\u001b[0m \u001b[0me\u001b[0m\u001b[1;33m\u001b[0m\u001b[1;33m\u001b[0m\u001b[0m\n\u001b[0m\u001b[0;32m    173\u001b[0m             )\n",
      "\u001b[1;31mNewConnectionError\u001b[0m: <urllib3.connection.HTTPConnection object at 0x0000019DD47E9688>: Failed to establish a new connection: [WinError 10060] A connection attempt failed because the connected party did not properly respond after a period of time, or established connection failed because connected host has failed to respond",
      "\nDuring handling of the above exception, another exception occurred:\n",
      "\u001b[1;31mMaxRetryError\u001b[0m                             Traceback (most recent call last)",
      "\u001b[1;32m~\\anaconda3\\envs\\JupyterLab\\lib\\site-packages\\requests\\adapters.py\u001b[0m in \u001b[0;36msend\u001b[1;34m(self, request, stream, timeout, verify, cert, proxies)\u001b[0m\n\u001b[0;32m    448\u001b[0m                     \u001b[0mretries\u001b[0m\u001b[1;33m=\u001b[0m\u001b[0mself\u001b[0m\u001b[1;33m.\u001b[0m\u001b[0mmax_retries\u001b[0m\u001b[1;33m,\u001b[0m\u001b[1;33m\u001b[0m\u001b[1;33m\u001b[0m\u001b[0m\n\u001b[1;32m--> 449\u001b[1;33m                     \u001b[0mtimeout\u001b[0m\u001b[1;33m=\u001b[0m\u001b[0mtimeout\u001b[0m\u001b[1;33m\u001b[0m\u001b[1;33m\u001b[0m\u001b[0m\n\u001b[0m\u001b[0;32m    450\u001b[0m                 )\n",
      "\u001b[1;32m~\\anaconda3\\envs\\JupyterLab\\lib\\site-packages\\urllib3\\connectionpool.py\u001b[0m in \u001b[0;36murlopen\u001b[1;34m(self, method, url, body, headers, retries, redirect, assert_same_host, timeout, pool_timeout, release_conn, chunked, body_pos, **response_kw)\u001b[0m\n\u001b[0;32m    726\u001b[0m             retries = retries.increment(\n\u001b[1;32m--> 727\u001b[1;33m                 \u001b[0mmethod\u001b[0m\u001b[1;33m,\u001b[0m \u001b[0murl\u001b[0m\u001b[1;33m,\u001b[0m \u001b[0merror\u001b[0m\u001b[1;33m=\u001b[0m\u001b[0me\u001b[0m\u001b[1;33m,\u001b[0m \u001b[0m_pool\u001b[0m\u001b[1;33m=\u001b[0m\u001b[0mself\u001b[0m\u001b[1;33m,\u001b[0m \u001b[0m_stacktrace\u001b[0m\u001b[1;33m=\u001b[0m\u001b[0msys\u001b[0m\u001b[1;33m.\u001b[0m\u001b[0mexc_info\u001b[0m\u001b[1;33m(\u001b[0m\u001b[1;33m)\u001b[0m\u001b[1;33m[\u001b[0m\u001b[1;36m2\u001b[0m\u001b[1;33m]\u001b[0m\u001b[1;33m\u001b[0m\u001b[1;33m\u001b[0m\u001b[0m\n\u001b[0m\u001b[0;32m    728\u001b[0m             )\n",
      "\u001b[1;32m~\\anaconda3\\envs\\JupyterLab\\lib\\site-packages\\urllib3\\util\\retry.py\u001b[0m in \u001b[0;36mincrement\u001b[1;34m(self, method, url, response, error, _pool, _stacktrace)\u001b[0m\n\u001b[0;32m    438\u001b[0m         \u001b[1;32mif\u001b[0m \u001b[0mnew_retry\u001b[0m\u001b[1;33m.\u001b[0m\u001b[0mis_exhausted\u001b[0m\u001b[1;33m(\u001b[0m\u001b[1;33m)\u001b[0m\u001b[1;33m:\u001b[0m\u001b[1;33m\u001b[0m\u001b[1;33m\u001b[0m\u001b[0m\n\u001b[1;32m--> 439\u001b[1;33m             \u001b[1;32mraise\u001b[0m \u001b[0mMaxRetryError\u001b[0m\u001b[1;33m(\u001b[0m\u001b[0m_pool\u001b[0m\u001b[1;33m,\u001b[0m \u001b[0murl\u001b[0m\u001b[1;33m,\u001b[0m \u001b[0merror\u001b[0m \u001b[1;32mor\u001b[0m \u001b[0mResponseError\u001b[0m\u001b[1;33m(\u001b[0m\u001b[0mcause\u001b[0m\u001b[1;33m)\u001b[0m\u001b[1;33m)\u001b[0m\u001b[1;33m\u001b[0m\u001b[1;33m\u001b[0m\u001b[0m\n\u001b[0m\u001b[0;32m    440\u001b[0m \u001b[1;33m\u001b[0m\u001b[0m\n",
      "\u001b[1;31mMaxRetryError\u001b[0m: HTTPConnectionPool(host='192.168.0.9', port=80): Max retries exceeded with url: /rest/rec/onchange?last=0 (Caused by NewConnectionError('<urllib3.connection.HTTPConnection object at 0x0000019DD47E9688>: Failed to establish a new connection: [WinError 10060] A connection attempt failed because the connected party did not properly respond after a period of time, or established connection failed because connected host has failed to respond'))",
      "\nDuring handling of the above exception, another exception occurred:\n",
      "\u001b[1;31mConnectionError\u001b[0m                           Traceback (most recent call last)",
      "\u001b[1;32m<ipython-input-9-bb172b4ce60a>\u001b[0m in \u001b[0;36m<module>\u001b[1;34m\u001b[0m\n\u001b[0;32m      1\u001b[0m \u001b[0mbnk_ip\u001b[0m \u001b[1;33m=\u001b[0m \u001b[1;34m'192.168.0.9'\u001b[0m\u001b[1;33m\u001b[0m\u001b[1;33m\u001b[0m\u001b[0m\n\u001b[1;32m----> 2\u001b[1;33m \u001b[0mADAC\u001b[0m \u001b[1;33m=\u001b[0m \u001b[0mInstrument\u001b[0m\u001b[1;33m(\u001b[0m\u001b[0mbnk_ip\u001b[0m\u001b[1;33m)\u001b[0m\u001b[1;33m\u001b[0m\u001b[1;33m\u001b[0m\u001b[0m\n\u001b[0m\u001b[0;32m      3\u001b[0m \u001b[0mprint\u001b[0m\u001b[1;33m(\u001b[0m\u001b[0mADAC\u001b[0m\u001b[1;33m)\u001b[0m \u001b[1;31m# Show some info about the BnK device\u001b[0m\u001b[1;33m\u001b[0m\u001b[1;33m\u001b[0m\u001b[0m\n",
      "\u001b[1;32m~\\Documents\\VM3000-Microphones\\PyBnK\\bnk\\bnk.py\u001b[0m in \u001b[0;36m__init__\u001b[1;34m(self, bnk_ip)\u001b[0m\n\u001b[0;32m    274\u001b[0m              }\n\u001b[0;32m    275\u001b[0m \u001b[1;33m\u001b[0m\u001b[0m\n\u001b[1;32m--> 276\u001b[1;33m         \u001b[0mself\u001b[0m\u001b[1;33m.\u001b[0m\u001b[0mstatus\u001b[0m\u001b[1;33m(\u001b[0m\u001b[1;33m)\u001b[0m\u001b[1;33m\u001b[0m\u001b[1;33m\u001b[0m\u001b[0m\n\u001b[0m\u001b[0;32m    277\u001b[0m \u001b[1;33m\u001b[0m\u001b[0m\n\u001b[0;32m    278\u001b[0m         \u001b[1;31m# Set the time\u001b[0m\u001b[1;33m\u001b[0m\u001b[1;33m\u001b[0m\u001b[1;33m\u001b[0m\u001b[0m\n",
      "\u001b[1;32m~\\Documents\\VM3000-Microphones\\PyBnK\\bnk\\bnk.py\u001b[0m in \u001b[0;36mstatus\u001b[1;34m(self, verbose)\u001b[0m\n\u001b[0;32m    434\u001b[0m \u001b[1;33m\u001b[0m\u001b[0m\n\u001b[0;32m    435\u001b[0m         response = requests.get(self.base_url + 'rest/rec/onchange?last=' \n\u001b[1;32m--> 436\u001b[1;33m                                 + str(0), headers=self.header)\n\u001b[0m\u001b[0;32m    437\u001b[0m         \u001b[0mstatus_info\u001b[0m \u001b[1;33m=\u001b[0m \u001b[0mjson\u001b[0m\u001b[1;33m.\u001b[0m\u001b[0mloads\u001b[0m\u001b[1;33m(\u001b[0m\u001b[0mresponse\u001b[0m\u001b[1;33m.\u001b[0m\u001b[0mtext\u001b[0m\u001b[1;33m)\u001b[0m\u001b[1;33m\u001b[0m\u001b[1;33m\u001b[0m\u001b[0m\n\u001b[0;32m    438\u001b[0m         \u001b[0mself\u001b[0m\u001b[1;33m.\u001b[0m\u001b[0mlast_change\u001b[0m \u001b[1;33m=\u001b[0m \u001b[0mstatus_info\u001b[0m\u001b[1;33m[\u001b[0m\u001b[1;34m'lastUpdateTag'\u001b[0m\u001b[1;33m]\u001b[0m\u001b[1;33m\u001b[0m\u001b[1;33m\u001b[0m\u001b[0m\n",
      "\u001b[1;32m~\\anaconda3\\envs\\JupyterLab\\lib\\site-packages\\requests\\api.py\u001b[0m in \u001b[0;36mget\u001b[1;34m(url, params, **kwargs)\u001b[0m\n\u001b[0;32m     74\u001b[0m \u001b[1;33m\u001b[0m\u001b[0m\n\u001b[0;32m     75\u001b[0m     \u001b[0mkwargs\u001b[0m\u001b[1;33m.\u001b[0m\u001b[0msetdefault\u001b[0m\u001b[1;33m(\u001b[0m\u001b[1;34m'allow_redirects'\u001b[0m\u001b[1;33m,\u001b[0m \u001b[1;32mTrue\u001b[0m\u001b[1;33m)\u001b[0m\u001b[1;33m\u001b[0m\u001b[1;33m\u001b[0m\u001b[0m\n\u001b[1;32m---> 76\u001b[1;33m     \u001b[1;32mreturn\u001b[0m \u001b[0mrequest\u001b[0m\u001b[1;33m(\u001b[0m\u001b[1;34m'get'\u001b[0m\u001b[1;33m,\u001b[0m \u001b[0murl\u001b[0m\u001b[1;33m,\u001b[0m \u001b[0mparams\u001b[0m\u001b[1;33m=\u001b[0m\u001b[0mparams\u001b[0m\u001b[1;33m,\u001b[0m \u001b[1;33m**\u001b[0m\u001b[0mkwargs\u001b[0m\u001b[1;33m)\u001b[0m\u001b[1;33m\u001b[0m\u001b[1;33m\u001b[0m\u001b[0m\n\u001b[0m\u001b[0;32m     77\u001b[0m \u001b[1;33m\u001b[0m\u001b[0m\n\u001b[0;32m     78\u001b[0m \u001b[1;33m\u001b[0m\u001b[0m\n",
      "\u001b[1;32m~\\anaconda3\\envs\\JupyterLab\\lib\\site-packages\\requests\\api.py\u001b[0m in \u001b[0;36mrequest\u001b[1;34m(method, url, **kwargs)\u001b[0m\n\u001b[0;32m     59\u001b[0m     \u001b[1;31m# cases, and look like a memory leak in others.\u001b[0m\u001b[1;33m\u001b[0m\u001b[1;33m\u001b[0m\u001b[1;33m\u001b[0m\u001b[0m\n\u001b[0;32m     60\u001b[0m     \u001b[1;32mwith\u001b[0m \u001b[0msessions\u001b[0m\u001b[1;33m.\u001b[0m\u001b[0mSession\u001b[0m\u001b[1;33m(\u001b[0m\u001b[1;33m)\u001b[0m \u001b[1;32mas\u001b[0m \u001b[0msession\u001b[0m\u001b[1;33m:\u001b[0m\u001b[1;33m\u001b[0m\u001b[1;33m\u001b[0m\u001b[0m\n\u001b[1;32m---> 61\u001b[1;33m         \u001b[1;32mreturn\u001b[0m \u001b[0msession\u001b[0m\u001b[1;33m.\u001b[0m\u001b[0mrequest\u001b[0m\u001b[1;33m(\u001b[0m\u001b[0mmethod\u001b[0m\u001b[1;33m=\u001b[0m\u001b[0mmethod\u001b[0m\u001b[1;33m,\u001b[0m \u001b[0murl\u001b[0m\u001b[1;33m=\u001b[0m\u001b[0murl\u001b[0m\u001b[1;33m,\u001b[0m \u001b[1;33m**\u001b[0m\u001b[0mkwargs\u001b[0m\u001b[1;33m)\u001b[0m\u001b[1;33m\u001b[0m\u001b[1;33m\u001b[0m\u001b[0m\n\u001b[0m\u001b[0;32m     62\u001b[0m \u001b[1;33m\u001b[0m\u001b[0m\n\u001b[0;32m     63\u001b[0m \u001b[1;33m\u001b[0m\u001b[0m\n",
      "\u001b[1;32m~\\anaconda3\\envs\\JupyterLab\\lib\\site-packages\\requests\\sessions.py\u001b[0m in \u001b[0;36mrequest\u001b[1;34m(self, method, url, params, data, headers, cookies, files, auth, timeout, allow_redirects, proxies, hooks, stream, verify, cert, json)\u001b[0m\n\u001b[0;32m    528\u001b[0m         }\n\u001b[0;32m    529\u001b[0m         \u001b[0msend_kwargs\u001b[0m\u001b[1;33m.\u001b[0m\u001b[0mupdate\u001b[0m\u001b[1;33m(\u001b[0m\u001b[0msettings\u001b[0m\u001b[1;33m)\u001b[0m\u001b[1;33m\u001b[0m\u001b[1;33m\u001b[0m\u001b[0m\n\u001b[1;32m--> 530\u001b[1;33m         \u001b[0mresp\u001b[0m \u001b[1;33m=\u001b[0m \u001b[0mself\u001b[0m\u001b[1;33m.\u001b[0m\u001b[0msend\u001b[0m\u001b[1;33m(\u001b[0m\u001b[0mprep\u001b[0m\u001b[1;33m,\u001b[0m \u001b[1;33m**\u001b[0m\u001b[0msend_kwargs\u001b[0m\u001b[1;33m)\u001b[0m\u001b[1;33m\u001b[0m\u001b[1;33m\u001b[0m\u001b[0m\n\u001b[0m\u001b[0;32m    531\u001b[0m \u001b[1;33m\u001b[0m\u001b[0m\n\u001b[0;32m    532\u001b[0m         \u001b[1;32mreturn\u001b[0m \u001b[0mresp\u001b[0m\u001b[1;33m\u001b[0m\u001b[1;33m\u001b[0m\u001b[0m\n",
      "\u001b[1;32m~\\anaconda3\\envs\\JupyterLab\\lib\\site-packages\\requests\\sessions.py\u001b[0m in \u001b[0;36msend\u001b[1;34m(self, request, **kwargs)\u001b[0m\n\u001b[0;32m    641\u001b[0m \u001b[1;33m\u001b[0m\u001b[0m\n\u001b[0;32m    642\u001b[0m         \u001b[1;31m# Send the request\u001b[0m\u001b[1;33m\u001b[0m\u001b[1;33m\u001b[0m\u001b[1;33m\u001b[0m\u001b[0m\n\u001b[1;32m--> 643\u001b[1;33m         \u001b[0mr\u001b[0m \u001b[1;33m=\u001b[0m \u001b[0madapter\u001b[0m\u001b[1;33m.\u001b[0m\u001b[0msend\u001b[0m\u001b[1;33m(\u001b[0m\u001b[0mrequest\u001b[0m\u001b[1;33m,\u001b[0m \u001b[1;33m**\u001b[0m\u001b[0mkwargs\u001b[0m\u001b[1;33m)\u001b[0m\u001b[1;33m\u001b[0m\u001b[1;33m\u001b[0m\u001b[0m\n\u001b[0m\u001b[0;32m    644\u001b[0m \u001b[1;33m\u001b[0m\u001b[0m\n\u001b[0;32m    645\u001b[0m         \u001b[1;31m# Total elapsed time of the request (approximately)\u001b[0m\u001b[1;33m\u001b[0m\u001b[1;33m\u001b[0m\u001b[1;33m\u001b[0m\u001b[0m\n",
      "\u001b[1;32m~\\anaconda3\\envs\\JupyterLab\\lib\\site-packages\\requests\\adapters.py\u001b[0m in \u001b[0;36msend\u001b[1;34m(self, request, stream, timeout, verify, cert, proxies)\u001b[0m\n\u001b[0;32m    514\u001b[0m                 \u001b[1;32mraise\u001b[0m \u001b[0mSSLError\u001b[0m\u001b[1;33m(\u001b[0m\u001b[0me\u001b[0m\u001b[1;33m,\u001b[0m \u001b[0mrequest\u001b[0m\u001b[1;33m=\u001b[0m\u001b[0mrequest\u001b[0m\u001b[1;33m)\u001b[0m\u001b[1;33m\u001b[0m\u001b[1;33m\u001b[0m\u001b[0m\n\u001b[0;32m    515\u001b[0m \u001b[1;33m\u001b[0m\u001b[0m\n\u001b[1;32m--> 516\u001b[1;33m             \u001b[1;32mraise\u001b[0m \u001b[0mConnectionError\u001b[0m\u001b[1;33m(\u001b[0m\u001b[0me\u001b[0m\u001b[1;33m,\u001b[0m \u001b[0mrequest\u001b[0m\u001b[1;33m=\u001b[0m\u001b[0mrequest\u001b[0m\u001b[1;33m)\u001b[0m\u001b[1;33m\u001b[0m\u001b[1;33m\u001b[0m\u001b[0m\n\u001b[0m\u001b[0;32m    517\u001b[0m \u001b[1;33m\u001b[0m\u001b[0m\n\u001b[0;32m    518\u001b[0m         \u001b[1;32mexcept\u001b[0m \u001b[0mClosedPoolError\u001b[0m \u001b[1;32mas\u001b[0m \u001b[0me\u001b[0m\u001b[1;33m:\u001b[0m\u001b[1;33m\u001b[0m\u001b[1;33m\u001b[0m\u001b[0m\n",
      "\u001b[1;31mConnectionError\u001b[0m: HTTPConnectionPool(host='192.168.0.9', port=80): Max retries exceeded with url: /rest/rec/onchange?last=0 (Caused by NewConnectionError('<urllib3.connection.HTTPConnection object at 0x0000019DD47E9688>: Failed to establish a new connection: [WinError 10060] A connection attempt failed because the connected party did not properly respond after a period of time, or established connection failed because connected host has failed to respond'))"
     ]
    }
   ],
   "source": [
    "bnk_ip = '192.168.0.9'\n",
    "ADAC = Instrument(bnk_ip)\n",
    "print(ADAC) # Show some info about the BnK device"
   ]
  },
  {
   "cell_type": "markdown",
   "metadata": {},
   "source": [
    "## <b> Python Wrapper for Keysight 33500B - Modified from Carlin's code</b>"
   ]
  },
  {
   "cell_type": "code",
   "execution_count": 6,
   "metadata": {},
   "outputs": [],
   "source": [
    "class keysight():\n",
    "    \n",
    "    def __init__(self,instrument_ID=keysight_ip):\n",
    "        self.Keysight =  vxi11.Instrument(instrument_ID)\n",
    "        print(self.Keysight.ask(\"*IDN?\"))\n",
    "        \n",
    "    def enable(self):\n",
    "        self.Keysight.write(\"OUTPut ON\")\n",
    "        \n",
    "    def disable(self):\n",
    "        self.Keysight.write(\"OUTPut OFF\") \n",
    "        \n",
    "    def enable_high_impedance(self):\n",
    "        self.Keysight.write(\"OUTPut:LOAD INF\")  \n",
    "        \n",
    "    def sine(self,frequency=500,amplitude=0.01,offset=0):\n",
    "        self.Keysight.write(f\"VOLTage:OFFSet {offset}\")\n",
    "        self.Keysight.write(\"VOLTage:UNIT VRMS\")\n",
    "        self.Keysight.write(f\"VOLTage {amplitude}\")\n",
    "        self.Keysight.write(\"FUNCtion SINusoid\")\n",
    "        self.Keysight.write(f\"FREQuency {frequency}\")\n",
    "        \n",
    "    def whitenoise(self, bandwidth=1500, amplitude=0.01):\n",
    "        self.Keysight.write(\"VOLTage:UNIT VRMS\")\n",
    "        self.Keysight.write(f\"VOLTage {amplitude}\")\n",
    "        self.Keysight.write(\"FUNCtion NOISe\")\n",
    "        self.Keysight.write(f\"FUNCtion:NOISe:BANDwidth {bandwidth}\")\n",
    "        \n",
    "    def enable_burst(self,frequency=2000,ncycles=50,int_period=5):\n",
    "        self.Keysight.write(\"FUNCtion SINusoid\")\n",
    "        self.Keysight.write(\"BURSt:STATe ON\")\n",
    "        self.Keysight.write(f\"FREQuency {frequency}\")\n",
    "        self.Keysight.write(f\"BURSt:NCYCles {ncycles}\")\n",
    "        self.Keysight.write(f\"BURSt:INTernal:PERiod {int_period}\")          \n",
    "        self.Keysight.write(\"OUTPut ON\")\n",
    "        \n",
    "    def disable_burst(self):\n",
    "        self.Keysight.write(\"BURSt:STATe OFF\")\n",
    "        self.Keysight.write(\"OUTPut OFF\")\n",
    "        \n",
    "    def enable_sweep(self, mode=\"logarithmic\", runTime=10):\n",
    "        self.Keysight.write(\"FUNCtion SINusoid\")\n",
    "        self.Keysight.write(\"SWEep:STATe ON\")\n",
    "        self.Keysight.write(f\"SWEep:SPAcing {mode}\")\n",
    "        self.Keysight.write(f\"SWEep:TIME {runTime}\")\n",
    "        self.Keysight.write(\"OUTPut ON\")\n",
    "        \n",
    "    def disable_sweep(self):\n",
    "        self.Keysight.write(\"SWEep:STATe OFF\")\n",
    "        self.Keysight.write(\"OUTPut OFF\")"
   ]
  },
  {
   "cell_type": "markdown",
   "metadata": {},
   "source": [
    "## <b> Connecting to RPI Zero W </b>"
   ]
  },
  {
   "cell_type": "code",
   "execution_count": 7,
   "metadata": {},
   "outputs": [],
   "source": [
    "#Connecting to the RPi over Wi-Fi\n",
    "import datetime\n",
    "from paramiko import SSHClient\n",
    "from scp import SCPClient\n",
    "RPi = '192.168.0.6' # This is the IP address when RPi is connected to SHL network, note that this changes depending on different networks unless static IP is set\n",
    "ssh = SSHClient()\n",
    "ssh.load_system_host_keys()\n",
    "ssh.connect(RPi,username='pi')"
   ]
  },
  {
   "cell_type": "code",
   "execution_count": 8,
   "metadata": {},
   "outputs": [],
   "source": [
    "scp = SCPClient(ssh.get_transport())"
   ]
  },
  {
   "cell_type": "code",
   "execution_count": 9,
   "metadata": {},
   "outputs": [
    {
     "name": "stdout",
     "output_type": "stream",
     "text": [
      "C:\\Users\\ricky\\Documents\\VM3000-Microphones\\Audio Files\n"
     ]
    }
   ],
   "source": [
    "cd ../Audio Files"
   ]
  },
  {
   "cell_type": "code",
   "execution_count": 10,
   "metadata": {},
   "outputs": [
    {
     "name": "stdout",
     "output_type": "stream",
     "text": [
      "C:\\Users\\ricky\\Documents\\VM3000-Microphones\\Audio Files\n"
     ]
    }
   ],
   "source": [
    "# Checking Current File directory\n",
    "\n",
    "import os\n",
    "print(os.getcwd())\n",
    "#scp.get('test_file.txt')"
   ]
  },
  {
   "cell_type": "code",
   "execution_count": 11,
   "metadata": {},
   "outputs": [
    {
     "name": "stdout",
     "output_type": "stream",
     "text": [
      "total 488744\n",
      "\n",
      "-rw-r--r--  1 pi   pi     2704044 Sep  7 09:28 48000\n",
      "\n",
      "-rw-r--r--  1 pi   pi         370 Sep 22 10:40 blinkatest.py\n",
      "\n",
      "-rw-r--r--  1 pi   pi      960044 Mar  3 13:09 burstTest_20210312_094957.wav\n",
      "\n",
      "-rw-r--r--  1 pi   pi      960044 Mar  3 13:09 burstTest_20210312_095048.wav\n",
      "\n",
      "-rwxr-xr-x  1 pi   pi        2677 Aug 26  2020 i2smic.sh\n",
      "\n",
      "lrwxrwxrwx  1 pi   pi          55 Sep 23 02:54 linux -> /home/pi/linux-988cc7beacc150756c3fbe40646afcf8438b741b\n",
      "\n",
      "drwxr-xr-x 27 pi   pi        4096 Sep 22 16:18 linux-43857965e5f526b9df807e543102a11fac1c0bcc\n",
      "\n",
      "-rw-r--r--  1 pi   pi   163445874 Sep 22 16:13 linux-43857965e5f526b9df807e543102a11fac1c0bcc.tar.gz\n",
      "\n",
      "drwxr-xr-x 27 pi   pi        4096 Sep 23 02:58 linux-988cc7beacc150756c3fbe40646afcf8438b741b\n",
      "\n",
      "-rw-r--r--  1 pi   pi   163419588 Sep 23 02:52 linux-988cc7beacc150756c3fbe40646afcf8438b741b.tar.gz\n",
      "\n",
      "drwxr-xr-x 27 pi   pi        4096 Aug 26  2020 linux-fe2c7bf4cad4641dfb6f12712755515ab15815ca\n",
      "\n",
      "-rw-r--r--  1 pi   pi   163526392 Aug 26  2020 linux-fe2c7bf4cad4641dfb6f12712755515ab15815ca.tar.gz\n",
      "\n",
      "drwxr-xr-x  4 pi   pi        4096 Sep 23 03:06 rpi-i2s-audio\n",
      "\n",
      "-rw-r--r--  1 pi   pi     1920044 Mar  3 13:07 sineTest_20210312_094828.wav\n",
      "\n",
      "-rw-r--r--  1 pi   pi      960044 Mar  3 13:42 sineTest_20210312_102756.wav\n",
      "\n",
      "drwxr-xr-x  2 pi   pi        4096 Mar  3 12:00 SoundFiles\n",
      "\n",
      "-rw-r--r--  1 pi   pi      768044 Mar  3 12:51 Sweep\n",
      "\n",
      "-rw-r--r--  1 pi   pi      768044 Mar  3 13:07 sweepTest_20210312_094813.wav\n",
      "\n",
      "-rw-r--r--  1 pi   pi          44 Mar  3 13:40 sweepTest_20210312_102612.wav\n",
      "\n",
      "-rw-r--r--  1 pi   pi          44 Mar  3 13:46 sweepTest_20210312_103217.wav\n",
      "\n",
      "-rw-r--r--  1 pi   pi           0 Mar  3 13:28 test_file.txt\n",
      "\n",
      "drwxr-xr-x  4 pi   pi        4096 Aug 18  2020 VM3000-Microphones\n",
      "\n",
      "-rw-r--r--  1 pi   pi         919 Sep 22 10:41 wherePDM.py\n",
      "\n",
      "-rw-r--r--  1 pi   pi      960044 Mar  3 13:07 whiteNoiseTest_20210312_094853.wav\n",
      "\n",
      "-rw-r--r--  1 root root       272 Sep 15 03:47 wpa_supplicant.conf\n",
      "\n"
     ]
    }
   ],
   "source": [
    "# Checking RPI Zero W files using ls\n",
    "\n",
    "stdin, stdout, stderr = ssh.exec_command('ls -l')\n",
    "for x in stdout:\n",
    "    print(x)"
   ]
  },
  {
   "cell_type": "code",
   "execution_count": 65,
   "metadata": {},
   "outputs": [
    {
     "name": "stdout",
     "output_type": "stream",
     "text": [
      "<paramiko.ChannelFile from <paramiko.Channel 0 (open) window=2097152 -> <paramiko.Transport at 0xd4c91908 (cipher aes128-ctr, 128 bits) (active; 1 open channel(s))>>>\n"
     ]
    }
   ],
   "source": [
    "client = SSHClient()\n",
    "client.load_system_host_keys()\n",
    "client.connect('192.168.0.6',username='pi')\n",
    "stdin, stdout, stderr = client.exec_command('touch test_file.txt')\n",
    "print(stdin)"
   ]
  },
  {
   "cell_type": "markdown",
   "metadata": {},
   "source": [
    "## <b> Class for Test Functions </b>"
   ]
  },
  {
   "cell_type": "code",
   "execution_count": 28,
   "metadata": {},
   "outputs": [],
   "source": [
    "class signalTests():    \n",
    "    def sweepTest(self, mode=\"logarithmic\", runTime=10, sleepTime=5):\n",
    "        from paramiko import SSHClient\n",
    "        from scp import SCPClient\n",
    "        import datetime\n",
    "        import time\n",
    "        \n",
    "        now = datetime.datetime.now().strftime(\"%Y%m%d_%H%M%S\")\n",
    "        sample_rate = 48000\n",
    "\n",
    "        cmd = f'arecord -D plughw:1 -c2 -r {sample_rate} -f S16_LE -t wav -V stereo -v -d {runTime} sweepTest_{now}.wav'\n",
    "\n",
    "        print(cmd)\n",
    "        ssh.exec_command(cmd)\n",
    "        \n",
    "        testName = \"Sweep Test\"\n",
    "        \n",
    "        sg.enable_sweep(mode, runTime)\n",
    "        sg.enable()\n",
    "        time.sleep(runTime)\n",
    "        sg.disable()\n",
    "        time.sleep(sleepTime)\n",
    "        sg.disable_sweep()\n",
    "\n",
    "        print(f\"Finished {testName} Output\")\n",
    "        \n",
    "        time.sleep(15)\n",
    "        \n",
    "        scp.get(f'sweepTest_{now}.wav')\n",
    "        \n",
    "    def sineTest(self, frequency=2000, amplitude=0.01, offset=0, runTime=10, sleepTime=5):\n",
    "        from paramiko import SSHClient\n",
    "        from scp import SCPClient\n",
    "        import datetime\n",
    "\n",
    "        now = datetime.datetime.now().strftime(\"%Y%m%d_%H%M%S\")\n",
    "        sample_rate = 48000\n",
    "\n",
    "        cmd = f'arecord -D plughw:1 -c2 -r {sample_rate} -f S16_LE -t wav -V stereo -v -d {runTime} sineTest_{now}.wav'\n",
    "\n",
    "        print(cmd)\n",
    "        ssh.exec_command(cmd)\n",
    "        \n",
    "        testName = \"Sine Wave Test\"\n",
    "        \n",
    "        sg.sine(frequency,amplitude,offset)\n",
    "        sg.enable()\n",
    "        time.sleep(runTime)\n",
    "        sg.disable()\n",
    "        time.sleep(sleepTime)\n",
    "\n",
    "        print(f\"Finished {testName} Output\")\n",
    "        \n",
    "        scp.get(f'sineTest_{now}.wav')\n",
    "        \n",
    "    def whiteNoiseTest(self, bandwidth=500, amplitude=0.01, runTime=10, sleepTime=2):\n",
    "        from paramiko import SSHClient\n",
    "        from scp import SCPClient\n",
    "        import datetime\n",
    "\n",
    "        now = datetime.datetime.now().strftime(\"%Y%m%d_%H%M%S\")\n",
    "        sample_rate = 48000\n",
    "\n",
    "        cmd = f'arecord -D plughw:1 -c2 -r {sample_rate} -f S16_LE -t wav -V stereo -v -d {runTime} whiteNoiseTest_{now}.wav'\n",
    "\n",
    "        print(cmd)\n",
    "        ssh.exec_command(cmd)      \n",
    "        \n",
    "        testName = \"White Noise Test\"\n",
    "        \n",
    "        sg.whitenoise(bandwidth,amplitude)\n",
    "        sg.enable()\n",
    "        time.sleep(runTime)\n",
    "        sg.disable()\n",
    "        time.sleep(sleepTime)\n",
    "\n",
    "        print(f\"Finished {testName} Output\")\n",
    "        \n",
    "        scp.get(f'whiteNoiseTest_{now}.wav')\n",
    "        \n",
    "    def burstTest(self, frequency=2000, ncycles=10, interval=1):\n",
    "        from paramiko import SSHClient\n",
    "        from scp import SCPClient\n",
    "        import datetime\n",
    "\n",
    "        now = datetime.datetime.now().strftime(\"%Y%m%d_%H%M%S\")\n",
    "        sample_rate = 48000\n",
    "\n",
    "        cmd = f'arecord -D plughw:1 -c2 -r {sample_rate} -f S16_LE -t wav -V stereo -v -d {runTime} burstTest_{now}.wav'\n",
    "\n",
    "        print(cmd)\n",
    "        ssh.exec_command(cmd)     \n",
    "        \n",
    "        testName = \"Burst Test\"\n",
    "\n",
    "        sg.enable_burst(frequency,ncycles,interval)\n",
    "\n",
    "        for i in range(1,ncycles,1):\n",
    "            print(f'Pulse number {i}')\n",
    "            Keysight.write(f\"FREQuency {frequency}\")\n",
    "            sg.enable()\n",
    "            time.sleep(interval)\n",
    "            sg.disable()\n",
    "            time.sleep(interval)\n",
    "\n",
    "        print(f\"Finished {testName} Output\")  \n",
    "        \n",
    "        scp.get(f'burstTest_{now}.wav')\n",
    "        \n",
    "    def ambientTest(self):\n",
    "        from paramiko import SSHClient\n",
    "        from scp import SCPClient\n",
    "        import datetime\n",
    "\n",
    "        now = datetime.datetime.now().strftime(\"%Y%m%d_%H%M%S\")\n",
    "        sample_rate = 48000\n",
    "\n",
    "        cmd = f'arecord -D plughw:1 -c2 -r {sample_rate} -f S16_LE -t wav -V stereo -v -d {runTime} ambientTest_{now}.wav'\n",
    "\n",
    "        print(cmd)\n",
    "        ssh.exec_command(cmd)   \n",
    "        \n",
    "        testName = \"Ambient Test\"\n",
    "        \n",
    "        print(f\"Finished {testName} Output\")\n",
    "        \n",
    "        scp.get(f'ambientTest_{now}.wav')"
   ]
  },
  {
   "cell_type": "markdown",
   "metadata": {},
   "source": [
    "## <b> Test Cases </b>"
   ]
  },
  {
   "cell_type": "code",
   "execution_count": 13,
   "metadata": {},
   "outputs": [
    {
     "name": "stdout",
     "output_type": "stream",
     "text": [
      "Agilent Technologies,33512B,MY57401183,4.00-1.19-2.00-58-00\n"
     ]
    }
   ],
   "source": [
    "sg=keysight()\n",
    "sg.enable_high_impedance()"
   ]
  },
  {
   "cell_type": "code",
   "execution_count": null,
   "metadata": {},
   "outputs": [],
   "source": [
    "import paramiko\n",
    "import time\n",
    "import datetime"
   ]
  },
  {
   "cell_type": "code",
   "execution_count": 78,
   "metadata": {},
   "outputs": [
    {
     "name": "stdout",
     "output_type": "stream",
     "text": [
      "Finished Sweep Test Output\n"
     ]
    }
   ],
   "source": [
    "# Sweep Test\n",
    "\n",
    "test1_name = \"Sweep Test\"\n",
    "mode = \"logarithmic\"\n",
    "sweep_period = 5\n",
    "\n",
    "sg.enable_sweep(mode, sweep_period)\n",
    "sg.enable()\n",
    "time.sleep(sweep_period)\n",
    "sg.disable()\n",
    "time.sleep(sweep_period)\n",
    "sg.disable_sweep()\n",
    "\n",
    "print(f\"Finished {test1_name} Output\")"
   ]
  },
  {
   "cell_type": "code",
   "execution_count": 13,
   "metadata": {},
   "outputs": [
    {
     "name": "stdout",
     "output_type": "stream",
     "text": [
      "Finished Sine Wave Test Output\n"
     ]
    }
   ],
   "source": [
    "# Continuous Sine Wave Test\n",
    "\n",
    "test2_name = \"Sine Wave Test\"\n",
    "frequency = 2000\n",
    "amplitude = 0.01 # Vrms\n",
    "offset = 0\n",
    "sleep_time = 2\n",
    "\n",
    "sg.sine(frequency,amplitude,offset)\n",
    "sg.enable()\n",
    "time.sleep(sleep_time)\n",
    "sg.disable()\n",
    "time.sleep(sleep_time)\n",
    "\n",
    "print(f\"Finished {test2_name} Output\")"
   ]
  },
  {
   "cell_type": "code",
   "execution_count": 376,
   "metadata": {},
   "outputs": [
    {
     "name": "stdout",
     "output_type": "stream",
     "text": [
      "Finished\n"
     ]
    }
   ],
   "source": [
    "# White Noise Test\n",
    "\n",
    "test3_name = \"White Noise Test\"\n",
    "bandwidth = 500\n",
    "amplitude = 0.01 # Vrms\n",
    "sleep_time = 2\n",
    "\n",
    "sg.whitenoise(bandwidth,amplitude)\n",
    "sg.enable()\n",
    "time.sleep(sleep_time)\n",
    "sg.disable()s\n",
    "time.sleep(sleep_time)\n",
    "\n",
    "print(f\"Finished {test3_name} Output\")"
   ]
  },
  {
   "cell_type": "code",
   "execution_count": 16,
   "metadata": {},
   "outputs": [
    {
     "name": "stdout",
     "output_type": "stream",
     "text": [
      "Pulsing at 2000 Hz\n",
      "Pulsing at 3000 Hz\n",
      "Pulsing at 4000 Hz\n",
      "Finished Burst Sweep Test Output\n"
     ]
    }
   ],
   "source": [
    "# Burst Sweep Test\n",
    "\n",
    "test4_name = \"Burst Sweep Test\"\n",
    "frequency = 2000\n",
    "ncycles = 10\n",
    "int_period = 1\n",
    "sleep_time = 2\n",
    "\n",
    "sg.enable_burst(frequency,ncycles,int_period)\n",
    "  \n",
    "for f in range(2000,5000,1000):\n",
    "    print(f'Pulsing at {f} Hz')\n",
    "    Keysight.write(f\"FREQuency {f}\")\n",
    "    sg.enable()\n",
    "    time.sleep(sleep_time)\n",
    "    sg.disable()\n",
    "    time.sleep(sleep_time)\n",
    "\n",
    "sg.disable_burst()\n",
    "    \n",
    "print(f\"Finished {test4_name} Output\")"
   ]
  },
  {
   "cell_type": "code",
   "execution_count": 17,
   "metadata": {},
   "outputs": [
    {
     "name": "stdout",
     "output_type": "stream",
     "text": [
      "Pulse number 1\n",
      "Pulse number 2\n",
      "Pulse number 3\n",
      "Pulse number 4\n",
      "Pulse number 5\n",
      "Pulse number 6\n",
      "Pulse number 7\n",
      "Pulse number 8\n",
      "Pulse number 9\n",
      "Pulse number 10\n",
      "Finished Constant Frequency Burst Test Output\n"
     ]
    }
   ],
   "source": [
    "# Burst Test Constant Frequency\n",
    "\n",
    "test5_name = \"Constant Frequency Burst Test\"\n",
    "frequency = 2000\n",
    "ncycles = 10\n",
    "int_period = 1\n",
    "sleep_time = 2\n",
    "\n",
    "sg.enable_burst(frequency,ncycles,int_period)\n",
    "\n",
    "for i in range(1,11,1):\n",
    "    print(f'Pulse number {i}')\n",
    "    Keysight.write(f\"FREQuency {frequency}\")\n",
    "    sg.enable()\n",
    "    time.sleep(sleep_time)\n",
    "    sg.disable()\n",
    "    time.sleep(sleep_time)\n",
    "          \n",
    "print(f\"Finished {test5_name} Output\")"
   ]
  },
  {
   "cell_type": "markdown",
   "metadata": {},
   "source": [
    "## <b> Frequency Response Characteristics Testing Script </b>"
   ]
  },
  {
   "cell_type": "code",
   "execution_count": 29,
   "metadata": {},
   "outputs": [],
   "source": [
    "st = signalTests()"
   ]
  },
  {
   "cell_type": "code",
   "execution_count": null,
   "metadata": {},
   "outputs": [
    {
     "name": "stdout",
     "output_type": "stream",
     "text": [
      "arecord -D plughw:1 -c2 -r 48000 -f S16_LE -t wav -V stereo -v -d 5 sweepTest_20210312_105329.wav\n"
     ]
    }
   ],
   "source": [
    "# Running Frequency Sweep Test & recording audio from RPI Zero W \n",
    "\n",
    "mode=\"logarithmic\"\n",
    "runTime=5\n",
    "sleepTime=2\n",
    "\n",
    "st.sweepTest(mode,runTime,sleepTime)"
   ]
  },
  {
   "cell_type": "code",
   "execution_count": 16,
   "metadata": {},
   "outputs": [
    {
     "name": "stdout",
     "output_type": "stream",
     "text": [
      "arecord -D plughw:1 -c2 -r 48000 -f S16_LE -t wav -V stereo -v -d 5 sineTest_20210312_103918.wav\n",
      "Finished Sine Wave Test Output\n"
     ]
    }
   ],
   "source": [
    "# Running Sine Wave Test & recording audio from RPI Zero W \n",
    "\n",
    "frequency=2000\n",
    "amplitude=0.01 # Vrms\n",
    "offset=0\n",
    "runTime=5\n",
    "sleepTime=2\n",
    "\n",
    "st.sineTest(frequency,amplitude,offset,runTime,sleepTime)"
   ]
  },
  {
   "cell_type": "code",
   "execution_count": 17,
   "metadata": {},
   "outputs": [
    {
     "name": "stdout",
     "output_type": "stream",
     "text": [
      "arecord -D plughw:1 -c2 -r 48000 -f S16_LE -t wav -V stereo -v -d 5 whiteNoiseTest_20210312_103932.wav\n",
      "Finished White Noise Test Output\n"
     ]
    }
   ],
   "source": [
    "# Running White Noise Test & recording audio from RPI Zero W\n",
    "\n",
    "bandwidth=500\n",
    "amplitude=0.01 # Vrms\n",
    "runTime=5\n",
    "sleepTime=2\n",
    "\n",
    "st.whiteNoiseTest(bandwidth,amplitude,runTime,sleepTime)"
   ]
  },
  {
   "cell_type": "code",
   "execution_count": 21,
   "metadata": {},
   "outputs": [
    {
     "name": "stdout",
     "output_type": "stream",
     "text": [
      "arecord -D plughw:1 -c2 -r 48000 -f S16_LE -t wav -V stereo -v -d 5 burstTest_20210312_104154.wav\n",
      "Pulse number 1\n",
      "Pulse number 2\n",
      "Pulse number 3\n",
      "Pulse number 4\n",
      "Finished Burst Test Output\n"
     ]
    }
   ],
   "source": [
    "# Running Burst Test & recording audio from RPI Zero W\n",
    "\n",
    "frequency=2000\n",
    "ncycles=5\n",
    "interval=1\n",
    "\n",
    "st.burstTest(frequency,ncycles,interval)"
   ]
  },
  {
   "cell_type": "code",
   "execution_count": 22,
   "metadata": {},
   "outputs": [
    {
     "name": "stdout",
     "output_type": "stream",
     "text": [
      "arecord -D plughw:1 -c2 -r 48000 -f S16_LE -t wav -V stereo -v -d 5 ambientTest_20210312_104319.wav\n",
      "Finished Ambient Test Output\n"
     ]
    }
   ],
   "source": [
    "# Running Ambient Noise Test & recording audio from RPI Zero W\n",
    "\n",
    "st.ambientTest()"
   ]
  },
  {
   "cell_type": "code",
   "execution_count": null,
   "metadata": {},
   "outputs": [],
   "source": []
  }
 ],
 "metadata": {
  "kernelspec": {
   "display_name": "Python 3",
   "language": "python",
   "name": "python3"
  },
  "language_info": {
   "codemirror_mode": {
    "name": "ipython",
    "version": 3
   },
   "file_extension": ".py",
   "mimetype": "text/x-python",
   "name": "python",
   "nbconvert_exporter": "python",
   "pygments_lexer": "ipython3",
   "version": "3.7.9"
  }
 },
 "nbformat": 4,
 "nbformat_minor": 4
}
