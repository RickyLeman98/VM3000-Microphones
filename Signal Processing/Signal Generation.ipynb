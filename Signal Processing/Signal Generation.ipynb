{
 "cells": [
  {
   "cell_type": "markdown",
   "metadata": {},
   "source": [
    " ## <b>Connecting vxi11 compatible devices via Ethernet </b>"
   ]
  },
  {
   "cell_type": "code",
   "execution_count": 10,
   "metadata": {},
   "outputs": [
    {
     "name": "stdout",
     "output_type": "stream",
     "text": [
      "Requirement already satisfied: python-vxi11 in c:\\users\\ricky\\anaconda3\\envs\\jupyterlab\\lib\\site-packages (0.9)\n"
     ]
    }
   ],
   "source": [
    "!pip3 install python-vxi11"
   ]
  },
  {
   "cell_type": "code",
   "execution_count": 207,
   "metadata": {},
   "outputs": [],
   "source": [
    "import vxi11\n",
    "import time"
   ]
  },
  {
   "cell_type": "code",
   "execution_count": 208,
   "metadata": {},
   "outputs": [],
   "source": [
    "keysight_ip = '192.168.0.8'"
   ]
  },
  {
   "cell_type": "code",
   "execution_count": 209,
   "metadata": {},
   "outputs": [
    {
     "name": "stdout",
     "output_type": "stream",
     "text": [
      "Agilent Technologies,33512B,MY57401183,4.00-1.19-2.00-58-00\n"
     ]
    }
   ],
   "source": [
    "Keysight = vxi11.Instrument(keysight_ip)\n",
    "print(Keysight.ask(\"*IDN?\"))"
   ]
  },
  {
   "cell_type": "code",
   "execution_count": 210,
   "metadata": {},
   "outputs": [],
   "source": [
    "rigol_ip = '192.168.0.14'"
   ]
  },
  {
   "cell_type": "code",
   "execution_count": 211,
   "metadata": {},
   "outputs": [
    {
     "name": "stdout",
     "output_type": "stream",
     "text": [
      "RIGOL TECHNOLOGIES,DS1074Z,DS1ZA193816619,00.04.04.SP3\n"
     ]
    }
   ],
   "source": [
    "Rigol = vxi11.Instrument(rigol_ip)\n",
    "print(Rigol.ask(\"*IDN?\"))"
   ]
  },
  {
   "cell_type": "markdown",
   "metadata": {},
   "source": [
    "## <b> Interacting with a Brüel & Kjær Type 3050-B-6 using Python </b>"
   ]
  },
  {
   "cell_type": "code",
   "execution_count": 212,
   "metadata": {},
   "outputs": [
    {
     "name": "stdout",
     "output_type": "stream",
     "text": [
      "C:\\Users\\ricky\\Documents\\VM3000-Microphones\\PyBnK\n"
     ]
    }
   ],
   "source": [
    "cd ../PyBnK"
   ]
  },
  {
   "cell_type": "code",
   "execution_count": 214,
   "metadata": {},
   "outputs": [],
   "source": [
    "from bnk.bnk import WavHeader, OpenWav, Instrument"
   ]
  },
  {
   "cell_type": "code",
   "execution_count": 216,
   "metadata": {},
   "outputs": [
    {
     "name": "stdout",
     "output_type": "stream",
     "text": [
      "\n",
      "\tBnK state : RecorderOpened\n",
      "\tcommands sent : 6\n",
      "\tBnK clock : Fri, 26 Feb 2021 05:48:10 GMT\n",
      "\n",
      "BnK Properties:\n",
      "    6 channels\n",
      "    SD card is inserted\n",
      "    Filters      : ['DC', '0.1 Hz 10%', '0.7 Hz', '1.0 Hz 10%', '7.0 Hz', '22.4 Hz', 'Intensity']\n",
      "    SampleRates  : [131072, 65536, 32768, 16384, 8192, 4096]        \n",
      "    Ranges       : ['10 Vpeak', '31.6 Vpeak']\n",
      "\n",
      "\tDefault setup\n",
      "\tChannel 1 : Channel 1\n",
      "\t\t131072 SPS, 7.0 Hz filter, 10 Vpeak, 1V/V.\n",
      "\tChannel 2 : Channel 2\n",
      "\t\t131072 SPS, 7.0 Hz filter, 10 Vpeak, 1V/V.\n",
      "\tChannel 3 : Channel 3\n",
      "\t\t131072 SPS, 7.0 Hz filter, 10 Vpeak, 1V/V.\n",
      "\tChannel 4 : Channel 4\n",
      "\t\t131072 SPS, 7.0 Hz filter, 10 Vpeak, 1V/V.\n",
      "\tChannel 5 : Channel 5\n",
      "\t\t131072 SPS, 7.0 Hz filter, 10 Vpeak, 1V/V.\n",
      "\tChannel 6 : Channel 6\n",
      "\t\t131072 SPS, 7.0 Hz filter, 10 Vpeak, 1V/V.\n",
      "\n",
      "\tBnK state : RecorderOpened\n",
      "\tcommands sent : 6\n",
      "\tBnK clock : Fri, 26 Feb 2021 05:48:11 GMT\n"
     ]
    }
   ],
   "source": [
    "bnk_ip = '192.168.0.9'\n",
    "ADAC = Instrument(bnk_ip)\n",
    "print(ADAC) # Show some info about the BnK device"
   ]
  },
  {
   "cell_type": "markdown",
   "metadata": {},
   "source": [
    "## Accessing the RPI"
   ]
  },
  {
   "cell_type": "code",
   "execution_count": null,
   "metadata": {},
   "outputs": [],
   "source": [
    "#Connecting to the RPi over Wi-Fi\n",
    "from paramiko import SSHClient\n",
    "from scp import SCPClient\n",
    "RPi = '192.168.0.6' # This is the IP address when RPi is connected to SHL network, note that this changes depending on different networks unless static IP is set\n",
    "ssh = SSHClient()\n",
    "ssh.load_system_host_keys()\n",
    "ssh.connect(RPi,username='pi')"
   ]
  },
  {
   "cell_type": "code",
   "execution_count": null,
   "metadata": {},
   "outputs": [],
   "source": []
  },
  {
   "cell_type": "markdown",
   "metadata": {},
   "source": [
    "## <b> Python Wrapper for Keysight 33500B </b>"
   ]
  },
  {
   "cell_type": "code",
   "execution_count": 357,
   "metadata": {},
   "outputs": [],
   "source": [
    "class keysight():\n",
    "    \n",
    "    def __init__(self,instrument_ID=keysight_ip):\n",
    "        self.Keysight =  vxi11.Instrument(instrument_ID)\n",
    "        print(self.Keysight.ask(\"*IDN?\"))\n",
    "        \n",
    "    def enable(self):\n",
    "        self.Keysight.write(\"OUTPut ON\")\n",
    "        \n",
    "    def disable(self):\n",
    "        self.Keysight.write(\"OUTPut OFF\") \n",
    "        \n",
    "    def enable_high_impedance(self):\n",
    "        self.Keysight.write(\"OUTPut:LOAD INF\")  \n",
    "        \n",
    "    def sine(self,frequency=500,amplitude=0.01,offset=0):\n",
    "        self.Keysight.write(f\"VOLTage:OFFSet {offset}\")\n",
    "        self.Keysight.write(\"VOLTage:UNIT VRMS\")\n",
    "        self.Keysight.write(f\"VOLTage {amplitude}\")\n",
    "        self.Keysight.write(\"FUNCtion SINusoid\")\n",
    "        self.Keysight.write(f\"FREQuency {frequency}\")\n",
    "        \n",
    "    def whitenoise(self, bandwidth=1500, amplitude=0.01):\n",
    "        self.Keysight.write(\"VOLTage:UNIT VRMS\")\n",
    "        self.Keysight.write(f\"VOLTage {amplitude}\")\n",
    "        self.Keysight.write(\"FUNCtion NOISe\")\n",
    "        self.Keysight.write(f\"FUNCtion:NOISe:BANDwidth {bandwidth}\")\n",
    "        \n",
    "    def enable_burst(self,frequency=2000,ncycles=50,int_period=5):\n",
    "        self.Keysight.write(\"FUNCtion SINusoid\")\n",
    "        self.Keysight.write(\"BURSt:STATe ON\")\n",
    "        self.Keysight.write(f\"FREQuency {frequency}\")\n",
    "        self.Keysight.write(f\"BURSt:NCYCles {ncycles}\")\n",
    "        self.Keysight.write(f\"BURSt:INTernal:PERiod {int_period}\")          \n",
    "        self.Keysight.write(\"OUTPut ON\")\n",
    "        \n",
    "    def disable_burst(self):\n",
    "        self.Keysight.write(\"BURSt:STATe OFF\")\n",
    "        self.Keysight.write(\"OUTPut OFF\")\n",
    "        \n",
    "    def enable_sweep(self, mode=\"logarithmic\", sweep_period=10):\n",
    "        self.Keysight.write(\"FUNCtion SINusoid\")\n",
    "        self.Keysight.write(\"SWEep:STATe ON\")\n",
    "        self.Keysight.write(f\"SWEep:SPAcing {mode}\")\n",
    "        self.Keysight.write(f\"SWEep:TIME {sweep_period}\")\n",
    "        self.Keysight.write(\"OUTPut ON\")\n",
    "        \n",
    "    def disable_sweep(self):\n",
    "        self.Keysight.write(\"SWEep:STATe OFF\")\n",
    "        self.Keysight.write(\"OUTPut OFF\")"
   ]
  },
  {
   "cell_type": "markdown",
   "metadata": {},
   "source": [
    "## Test Cases"
   ]
  },
  {
   "cell_type": "code",
   "execution_count": 358,
   "metadata": {},
   "outputs": [
    {
     "name": "stdout",
     "output_type": "stream",
     "text": [
      "Agilent Technologies,33512B,MY57401183,4.00-1.19-2.00-58-00\n"
     ]
    }
   ],
   "source": [
    "sg=keysight()\n",
    "\n",
    "sg.enable_high_impedance()"
   ]
  },
  {
   "cell_type": "code",
   "execution_count": 381,
   "metadata": {},
   "outputs": [
    {
     "name": "stdout",
     "output_type": "stream",
     "text": [
      "Finished Signal Output\n"
     ]
    }
   ],
   "source": [
    "# Frequency Sweep Test (1 uHz - 20 MHz)\n",
    "\n",
    "mode =\"logarithmic\"\n",
    "sweep_period = 2\n",
    "sleep_time = 2\n",
    "\n",
    "sg.enable_sweep(mode,sweep_period)\n",
    "time.sleep(sleep_time)\n",
    "sg.disable_sweep()\n",
    "time.sleep(sleep_time)\n",
    "\n",
    "print(\"Finished Signal Output\")"
   ]
  },
  {
   "cell_type": "code",
   "execution_count": 375,
   "metadata": {},
   "outputs": [
    {
     "name": "stdout",
     "output_type": "stream",
     "text": [
      "Finished\n"
     ]
    }
   ],
   "source": [
    "# Continuous Sine Wave Test\n",
    "\n",
    "frequency = 2000\n",
    "amplitude = 0.01 # Vrms\n",
    "offset = 0\n",
    "sleep_time = 2\n",
    "\n",
    "sg.sine(frequency,amplitude,offset)\n",
    "sg.enable()\n",
    "time.sleep(sleep_time)\n",
    "sg.disable()\n",
    "time.sleep(sleep_time)\n",
    "\n",
    "print(\"Finished\")"
   ]
  },
  {
   "cell_type": "code",
   "execution_count": 376,
   "metadata": {},
   "outputs": [
    {
     "name": "stdout",
     "output_type": "stream",
     "text": [
      "Finished\n"
     ]
    }
   ],
   "source": [
    "# White Noise Test\n",
    "\n",
    "bandwidth = 500\n",
    "amplitude = 0.01 # Vrms\n",
    "sleep_time = 2\n",
    "\n",
    "sg.whitenoise(bandwidth,amplitude)\n",
    "sg.enable()\n",
    "time.sleep(sleep_time)\n",
    "sg.disable()\n",
    "time.sleep(sleep_time)\n",
    "\n",
    "print(\"Finished\")"
   ]
  },
  {
   "cell_type": "code",
   "execution_count": 377,
   "metadata": {},
   "outputs": [
    {
     "name": "stdout",
     "output_type": "stream",
     "text": [
      "Pulsing at 2000 Hz\n",
      "Pulsing at 3000 Hz\n",
      "Pulsing at 4000 Hz\n",
      "Finished\n"
     ]
    }
   ],
   "source": [
    "# Burst Sweep Test\n",
    "\n",
    "frequency = 2000\n",
    "ncycles = 10\n",
    "int_period = 1\n",
    "sleep_time = 2\n",
    "\n",
    "sg.enable_burst(frequency,ncycles,int_period)\n",
    "  \n",
    "for f in range(2000,5000,1000):\n",
    "    print(f'Pulsing at {f} Hz')\n",
    "    Keysight.write(f\"FREQuency {f}\")\n",
    "    sg.enable()\n",
    "    time.sleep(sleep_time)\n",
    "    sg.disable()\n",
    "    time.sleep(sleep_time)\n",
    "\n",
    "sg.disable_burst()\n",
    "    \n",
    "print(\"Finished\")"
   ]
  },
  {
   "cell_type": "code",
   "execution_count": 378,
   "metadata": {},
   "outputs": [
    {
     "name": "stdout",
     "output_type": "stream",
     "text": [
      "Pulse number 1\n",
      "Pulse number 2\n",
      "Pulse number 3\n",
      "Pulse number 4\n",
      "Pulse number 5\n",
      "Pulse number 6\n",
      "Pulse number 7\n",
      "Pulse number 8\n",
      "Pulse number 9\n",
      "Pulse number 10\n",
      "Finished\n"
     ]
    }
   ],
   "source": [
    "# Burst Test Constant Frequency\n",
    "\n",
    "frequency = 2000\n",
    "ncycles = 10\n",
    "int_period = 1\n",
    "sleep_time = 2\n",
    "\n",
    "sg.enable_burst(frequency,ncycles,int_period)\n",
    "\n",
    "for i in range(1,11,1):\n",
    "    print(f'Pulse number {i}')\n",
    "    Keysight.write(f\"FREQuency {frequency}\")\n",
    "    sg.enable()\n",
    "    time.sleep(sleep_time)\n",
    "    sg.disable()\n",
    "    time.sleep(sleep_time)\n",
    "          \n",
    "print(\"Finished\")"
   ]
  },
  {
   "cell_type": "code",
   "execution_count": null,
   "metadata": {},
   "outputs": [],
   "source": []
  }
 ],
 "metadata": {
  "kernelspec": {
   "display_name": "Python 3",
   "language": "python",
   "name": "python3"
  },
  "language_info": {
   "codemirror_mode": {
    "name": "ipython",
    "version": 3
   },
   "file_extension": ".py",
   "mimetype": "text/x-python",
   "name": "python",
   "nbconvert_exporter": "python",
   "pygments_lexer": "ipython3",
   "version": "3.7.9"
  }
 },
 "nbformat": 4,
 "nbformat_minor": 4
}
