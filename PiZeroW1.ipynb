{
 "cells": [
  {
   "cell_type": "markdown",
   "metadata": {},
   "source": [
    "# **Raspberry Pi Zero W - Practice**"
   ]
  },
  {
   "cell_type": "markdown",
   "metadata": {},
   "source": [
    "## Getting Started"
   ]
  },
  {
   "cell_type": "markdown",
   "metadata": {},
   "source": [
    "### Sourcing the Pi Zero W"
   ]
  },
  {
   "cell_type": "markdown",
   "metadata": {},
   "source": [
    "As discussed with Ben and Melinda during one of my earlier meetings for thesis, sourcing the Raspberry Pi Zero W proved to be one of the initial hurdles of this project. Not only is the Pi Zero W often out of stock, the Raspberry Pi Foundation has limited the sale of one Pi Zero W per customer which makes it all the more difficult to source a stockpile of these boards for testing purposes. \n",
    "\n",
    "I conducted a vendor screening on the 17/07/2020 - the Excel file has been uploaded onto SHL teams. Most local vendors out of stock, the remaining vendors were either overseas or sold the Pi Zero W's at unreasonably inflated prices. Luckily I was able to source a Pi Zero W from a friend of mine who had a spare on hand."
   ]
  },
  {
   "cell_type": "markdown",
   "metadata": {},
   "source": [
    "### Gathering the necessary components"
   ]
  },
  {
   "cell_type": "markdown",
   "metadata": {},
   "source": [
    "The following pieces of equipment were purchased for setup of the Pi Zero W:\n",
    "\n",
    "    1x 16GB Micro SD Card (9 AUD)\n",
    "    1x Multicard Reader with USB 2.0 Hub input (17 AUD)\n",
    "Both items were purchased from Officeworks. \n",
    "\n",
    "<b><font color = red>Insert Pictures</font></b>"
   ]
  },
  {
   "cell_type": "markdown",
   "metadata": {},
   "source": [
    "### Setting up the software"
   ]
  },
  {
   "cell_type": "markdown",
   "metadata": {},
   "source": [
    "In order to access the Pi Zero W directly over USB connection, headless SSH access needed to be setup - the following guide was followed: https://desertbot.io/blog/headless-pi-zero-ssh-access-over-usb-windows?fbclid=IwAR0HHEW8AG63u5XTH_QIqGYqvfIS3r3zvBPypFTo7GvtI566ymInhyD5q8A\n",
    "\n",
    "Upon completion of this setup, the Pi Zero W is accessible through using a USB to mini-USB cable connection and  SSH login over PuTTY. The login details has not been changed from the default username (pi) and password (raspberry). "
   ]
  },
  {
   "cell_type": "markdown",
   "metadata": {},
   "source": [
    "## Building the circuit"
   ]
  },
  {
   "cell_type": "markdown",
   "metadata": {},
   "source": [
    "Since the final output of my research project involves me building a digital microphone array using the VM3000 piezoelectric MEMS microphones and a PCB, it is important for me to familiarise myself with the practical aspects of circuit-building using the Pi Zero W. In doing so, I sourced the following equipment from the UWA Maker's Lab to play around with:\n",
    "\n",
    "    2x Orange LEDs\n",
    "    2x Red LEDs\n",
    "    3x 680 Ohm Resistors\n",
    "    1x CZN-15E Microphone based sound sensor module\n",
    "    \n",
    "The intent behind these pieces of equipment is to produce a microphone circuit and display the sound output directly onto a Jupyter Notebook in real time (if possible)."
   ]
  },
  {
   "cell_type": "markdown",
   "metadata": {},
   "source": [
    "### Producing a model on Fritzing"
   ]
  },
  {
   "cell_type": "markdown",
   "metadata": {},
   "source": [
    "The first step in producing the circuit is to create a model on Fritzing. The breadboard and schematic diagram can be seen below:\n",
    "\n",
    "<b><font color = red>Insert Images</font></b>"
   ]
  },
  {
   "cell_type": "markdown",
   "metadata": {},
   "source": [
    "### Practical side of things"
   ]
  },
  {
   "cell_type": "markdown",
   "metadata": {},
   "source": [
    "<b><font color = red>Insert Images of practical circuit building<\\font><\\b>"
   ]
  },
  {
   "cell_type": "markdown",
   "metadata": {},
   "source": [
    "### Recording the results"
   ]
  },
  {
   "cell_type": "markdown",
   "metadata": {},
   "source": [
    "<b><font color = red>Insert images of the microphone circuit in action<\\font><\\b>"
   ]
  }
 ],
 "metadata": {
  "kernelspec": {
   "display_name": "Python 3",
   "language": "python",
   "name": "python3"
  },
  "language_info": {
   "codemirror_mode": {
    "name": "ipython",
    "version": 3
   },
   "file_extension": ".py",
   "mimetype": "text/x-python",
   "name": "python",
   "nbconvert_exporter": "python",
   "pygments_lexer": "ipython3",
   "version": "3.8.3"
  }
 },
 "nbformat": 4,
 "nbformat_minor": 4
}
