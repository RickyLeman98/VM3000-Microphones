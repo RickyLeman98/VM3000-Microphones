{
 "cells": [
  {
   "cell_type": "markdown",
   "metadata": {},
   "source": [
    "# **VM3000 MEMS Project - Progress Tracking**"
   ]
  },
  {
   "cell_type": "markdown",
   "metadata": {},
   "source": [
    "## Progress Update 1 - 31/07/2020"
   ]
  },
  {
   "cell_type": "markdown",
   "metadata": {},
   "source": [
    "### Sourcing the RPi Zero W"
   ]
  },
  {
   "cell_type": "markdown",
   "metadata": {},
   "source": [
    "As discussed with Ben and Melinda during one of my earlier meetings for thesis, sourcing the Raspberry Pi Zero W proved to be one of the initial hurdles of this project. Not only is the Pi Zero W often out of stock, the Raspberry Pi Foundation has limited the sale of one Pi Zero W per customer which makes it all the more difficult to source a stockpile of these boards for testing purposes. \n",
    "\n",
    "I conducted a vendor screening on the 17/07/2020 - the Excel file has been uploaded onto SHL teams. Most local vendors out of stock, the remaining vendors were either overseas or sold the Pi Zero W's at unreasonably inflated prices. Luckily I was able to source a Pi Zero W from a friend of mine who had a spare on hand."
   ]
  },
  {
   "cell_type": "markdown",
   "metadata": {},
   "source": [
    "### Gathering the necessary components"
   ]
  },
  {
   "cell_type": "markdown",
   "metadata": {},
   "source": [
    "The following pieces of equipment were purchased for setup of the Pi Zero W:\n",
    "\n",
    " - 1x 16GB Micro SD Card (9 AUD)\n",
    " - 1x Multicard Reader with USB 2.0 Hub input (17 AUD)\n",
    "Both items were purchased from Officeworks. "
   ]
  },
  {
   "cell_type": "code",
   "execution_count": 2,
   "metadata": {},
   "outputs": [
    {
     "data": {
      "text/html": [
       "<img src=\"Images/16-GB-MicroSD.PNG\" width=\"200\" />"
      ],
      "text/plain": [
       "<IPython.core.display.HTML object>"
      ]
     },
     "metadata": {},
     "output_type": "display_data"
    },
    {
     "data": {
      "text/html": [
       "<img src=\"Images/Verbatim-Multi-Card-Reader.PNG\" width=\"200\" />"
      ],
      "text/plain": [
       "<IPython.core.display.HTML object>"
      ]
     },
     "metadata": {},
     "output_type": "display_data"
    }
   ],
   "source": [
    "from IPython.display import display, HTML\n",
    "display(HTML('''<img src=\"Images/16-GB-MicroSD.PNG\" width=\"200\" />'''))\n",
    "display(HTML('''<img src=\"Images/Verbatim-Multi-Card-Reader.PNG\" width=\"200\" />'''))"
   ]
  },
  {
   "cell_type": "markdown",
   "metadata": {},
   "source": [
    "### Setting up the software"
   ]
  },
  {
   "cell_type": "markdown",
   "metadata": {},
   "source": [
    "In order to access the Pi Zero W directly over USB connection, headless SSH access needed to be setup - the following guide was followed: https://desertbot.io/blog/headless-pi-zero-ssh-access-over-usb-windows?fbclid=IwAR0HHEW8AG63u5XTH_QIqGYqvfIS3r3zvBPypFTo7GvtI566ymInhyD5q8A\n",
    "\n",
    "Upon completion of this setup, the Pi Zero W is accessible through using a USB to mini-USB cable connection and  SSH login over PuTTY. I have kept  the default username (pi) and changed the password. \n",
    "\n",
    "I used the following website as a guide to enable coding directly onto the Pi Zero W: https://learn.sparkfun.com/tutorials/python-programming-tutorial-getting-started-with-the-raspberry-pi/all"
   ]
  },
  {
   "cell_type": "markdown",
   "metadata": {},
   "source": [
    "### Simple sound detection script"
   ]
  },
  {
   "cell_type": "markdown",
   "metadata": {},
   "source": [
    "This script was taken from the following website purely for the purposes of exploring the capabilities of the Pi Zero W and familiarising myself with the board.\n",
    "https://www.instructables.com/id/Sound-Sensor-Raspberry-Pi/\n",
    "(All credits to the author)"
   ]
  },
  {
   "cell_type": "markdown",
   "metadata": {},
   "source": [
    "import RPi.GPIO as GPIO\n",
    "import time\n",
    "\n",
    "#Setting up GPIO Pin 17\n",
    "channel = 17\n",
    "GPIO.setmode(GPIO.BCM)\n",
    "GPIO.setup(channel, GPIO.IN)\n",
    "\n",
    "def callback(channel):\n",
    "    if GPIO.input(channel):\n",
    "        print(\"Sound Detected!\")\n",
    "    else:\n",
    "        print(\"Sound Detected\")\n",
    "        \n",
    "GPIO.add_event_detect(channel, GPIO.BOTH, bouncetime = 300)\n",
    "GPIO.add_event_callback(channel, callback)\n",
    "\n",
    "while True:\n",
    "    time.sleep(1)"
   ]
  },
  {
   "cell_type": "markdown",
   "metadata": {},
   "source": [
    "<b><font color = red> Issues Encountered </font></b>\n",
    "\n",
    "I initially set up the Pi Zero W on a network which was not my home network nor my phone hotspot network. When attempting to install the RPi.GPIO package I ran into issues downloading the package as the Pi was not connected to the internet. Initially I did not recognise this as the issue, however after several attempts at troubleshooting the solution was found through this thread: https://raspberrypi.stackexchange.com/questions/11631/how-to-setup-multiple-wifi-networks\n",
    "\n",
    "Within the wpa_supplicant.conf folder, I added 2 WiFi networks: my home WiFi and my iPhone Hotspot. I tested the board was now connected to the internet by pinging www.google.com and verified this by installing the RPi.GPIO package. "
   ]
  },
  {
   "cell_type": "markdown",
   "metadata": {},
   "source": [
    "### Building and testing the circuit"
   ]
  },
  {
   "cell_type": "markdown",
   "metadata": {},
   "source": [
    "Since the final output of my research project involves me building a digital microphone array using the VM3000 piezoelectric MEMS microphones and a PCB, it is important for me to familiarise myself with the practical aspects of circuit-building using the Pi Zero W. In doing so, I sourced the following equipment from the UWA Maker's Lab to play around with:\n",
    "\n",
    " - 2x Breadboards\n",
    " - 2x Orange LEDs\n",
    " - 2x Red LEDs\n",
    " - 3x 680 Ohm Resistors\n",
    " - 1x CZN-15E Microphone based sound sensor module (https://rarecomponents.com/store/1564)\n",
    "    \n",
    "Note that in building the circuit necessary for the above code, only the microphone modules, a single breadboard and a few connection leads were required. The intent behind these pieces of equipment is to produce a microphone circuit and record the sound output. The following GPIO layout was used as reference for the Pi Zero W:"
   ]
  },
  {
   "cell_type": "code",
   "execution_count": 4,
   "metadata": {},
   "outputs": [
    {
     "data": {
      "text/html": [
       "<img src=\"Images/Pi-Zero-W-GPIO.PNG\" width=\"600\" />"
      ],
      "text/plain": [
       "<IPython.core.display.HTML object>"
      ]
     },
     "metadata": {},
     "output_type": "display_data"
    }
   ],
   "source": [
    "display(HTML('''<img src=\"Images/Pi-Zero-W-GPIO.PNG\" width=\"600\" />'''))"
   ]
  },
  {
   "cell_type": "markdown",
   "metadata": {},
   "source": [
    "### Practical side of things"
   ]
  },
  {
   "cell_type": "markdown",
   "metadata": {},
   "source": [
    "3 GPIO pins were used on the Pi Zero W, namely pin 4 (5V), pin 6 (GND) and pin 11 (Digital Input 17) which were connected to the Vcc, GND and OUT pins on the board respectively. This can be seen in the following image:"
   ]
  },
  {
   "cell_type": "code",
   "execution_count": 5,
   "metadata": {},
   "outputs": [
    {
     "data": {
      "text/html": [
       "<img src=\"Images/Sound-Circuit.jpg\" width=\"600\" />"
      ],
      "text/plain": [
       "<IPython.core.display.HTML object>"
      ]
     },
     "metadata": {},
     "output_type": "display_data"
    }
   ],
   "source": [
    "display(HTML('''<img src=\"Images/Sound-Circuit.jpg\" width=\"600\" />'''))"
   ]
  },
  {
   "cell_type": "markdown",
   "metadata": {},
   "source": [
    "The CZN-15E microphone module contains 2 indicator lights. From the perspective of this image, the right light indicates the module is being powered, and the left light indicates that the microphone is receiving a reading. Note that the microphone module contains an adjustable potentiometer which can be used to change the trigger level (blue box). The output of the module is binary and is HIGH when it reads sound intensity greater than the set trigger level. \n",
    "\n",
    "Notice that currently the reading sensor is a constant bright green, this indicates the potentiometer is too sensitive and needed to be adjusted down. With the microphone component facing away from me, turning the adjustor clockwise reduced the trigger level and vice versa. This was done using a Phillips head screwdriver I had at home."
   ]
  },
  {
   "cell_type": "markdown",
   "metadata": {},
   "source": [
    "### Recording the results"
   ]
  },
  {
   "cell_type": "markdown",
   "metadata": {},
   "source": [
    "Now that the potentiometer has been adjusted to the desired trigger level, the circuit was ready to be tested. The following output was produced by the circuit and code following 4 claps infront of the microphone."
   ]
  },
  {
   "cell_type": "code",
   "execution_count": 6,
   "metadata": {},
   "outputs": [
    {
     "data": {
      "text/html": [
       "<img src=\"Images/Sound-Circuit-Test.PNG\" width=\"600\" />"
      ],
      "text/plain": [
       "<IPython.core.display.HTML object>"
      ]
     },
     "metadata": {},
     "output_type": "display_data"
    }
   ],
   "source": [
    "display(HTML('''<img src=\"Images/Sound-Circuit-Test.PNG\" width=\"600\" />'''))"
   ]
  },
  {
   "cell_type": "markdown",
   "metadata": {},
   "source": [
    "### Extending the code"
   ]
  },
  {
   "cell_type": "markdown",
   "metadata": {},
   "source": [
    "Now that I have demonstrated basic proficiency in integrating software with hardware, the next step I'd like to pursue is extending the capabilities of the Python script. Currently, it is simply printing a message once the CZN-15E microphone has detected sound. It would be a good learning experience to explore how to convert the dB levels of sound readings and plot them on a graph in real-time.\n",
    "\n",
    "<b><font color = red> I have put this on hold for now whilst I explore more time-pressing action items </font></b>"
   ]
  },
  {
   "cell_type": "markdown",
   "metadata": {},
   "source": [
    "## Progress Update 2 - 07/08/2020"
   ]
  },
  {
   "cell_type": "markdown",
   "metadata": {},
   "source": [
    "### Setting up RPi Zero W SSH passwordless access and Github link\n"
   ]
  },
  {
   "cell_type": "markdown",
   "metadata": {},
   "source": [
    "Based on discussions with Ben from the fortnightly MPE catchup 31/07/2020, he recommended I set up SSH passwordless access to be able to remotely access the RPi and make it easier to make upload/edit Python scripts. I used the following guide in setting up <b>remote access SSH </b> this access on my laptop: https://www.raspberrypi.org/documentation/remote-access/ssh/passwordless.md\n",
    "\n",
    "The commands were entered into Ubuntu from my Windows PC which had been previously set up using Windows Subsystem for Linux (from the Windows Application Store).\n",
    "\n",
    "Once this setup had been completed, I also set up GitHub connection on the RPi (Thank you Frinze) using the following guide: https://geektechstuff.com/2019/09/09/introduction-to-github-raspberry-pi/ \n",
    "\n",
    "The commands were entered also entered into Ubuntu. Now the RPi can access the same repository in which my Jupyter Notebooks will be synced into, and the RPi can easily pull .ipynb files so long as it is connected to the internet and that I am able to SSH login into the RPi.\n",
    "\n",
    "To access the pi remotely, check pi ip address using \"$ hostname -I\" on the RPi, then \"ssh pi@<ip.address>\" and enter key passphrase, include \"-v\" in ssh command on Ubuntu to get more information on the ssh process if difficulties arise.\n",
    "\n",
    "Useful links for troubleshooting include:\n",
    " - https://askubuntu.com/questions/265982/unable-to-start-sshd\n",
    " - https://www.raspberrypi.org/forums/viewtopic.php?t=62326\n",
    " \n",
    "To set up <b> USB SSH access: </b>\n",
    " - https://www.raspberrypi.org/downloads/\n",
    " - https://www.circuitbasics.com/raspberry-pi-zero-ethernet-gadget/"
   ]
  },
  {
   "cell_type": "markdown",
   "metadata": {},
   "source": [
    "### Addressing VM3000 PDM and RPi Zero W clockrate"
   ]
  },
  {
   "cell_type": "markdown",
   "metadata": {},
   "source": [
    "The Vesper MEMS VM3000 Microphones is designed to utilise Pulse Density Modulation as its method of sampling analogue signals and digitising its output, and does so at a bit depth of 1. This means each analogue sample taken by the microphone either maps to 0 or 1, which can then be used to reconstructed the analogue signal based on the density of 1s or 0s. "
   ]
  },
  {
   "cell_type": "code",
   "execution_count": 7,
   "metadata": {},
   "outputs": [
    {
     "data": {
      "text/html": [
       "<img src=\"Images/Pulse-Density-Modulation-Example.png\" width=\"600\" />"
      ],
      "text/plain": [
       "<IPython.core.display.HTML object>"
      ]
     },
     "metadata": {},
     "output_type": "display_data"
    }
   ],
   "source": [
    "display(HTML('''<img src=\"Images/Pulse-Density-Modulation-Example.png\" width=\"600\" />'''))"
   ]
  },
  {
   "cell_type": "markdown",
   "metadata": {},
   "source": [
    "Since the analogue signals can be quantized to only 2 discrete values (0 or 1), the microphones must sample at a frequency range of 1 - 3 MHz to ensure sufficient fidelity in signal reconstruction. In light of this, it was necessary to explore whether there was sufficient clockspace on the RPi Zero W to dedicate to the VM3000 microphone without impeding other function. The RPi Zero W contains a BCM2835 chip which runs at 1 GHz so plenty of clockrate can be dedicated to the VM3000. I found other MEMS microphones on the market which have successfully interfaced with the Pi Zero using the I2S audio stream, however the use of Pulse Density Modulation MEMS microphones with RPis were not well documented.\n",
    "\n",
    "Further research into the BCM2835 chip indicated that the Pi Zero W can read the PDM data from the microphones using the I2S interface, however the PDM Input Mode needs to be enabled on the board's MODE_A Register as it defines the Pulse-Code Modulation (PCM) Operating Mode. Useful links to this topic can be found below:\n",
    "\n",
    " - https://www.raspberrypi.org/app/uploads/2012/02/BCM2835-ARM-Peripherals.pdf - BCM2835 SoC Datasheet\n",
    " - https://www.raspberrypi.org/forums/viewtopic.php?f=44&t=8496 - Sticky thread on interfacing microphones with RPi's I2S port, some discussion on PDM interfacing\n",
    " - https://www.digikey.si/product-detail/en/knowles/SPH0641LU4H-1/423-1402-1-ND/5332430 - Another PDM microphone which a user on the sticky thread has successfuly used for PDM interfacing\n",
    "\n",
    "<b> As of 14/08/2020, the next steps in interfacing the VM3000 to the RPi are: </b>\n",
    " - Interface with a PCM microphone which uses I2S to ensure I2S drivers are installed and functional (Currently Adafruit I2S MEMS Microphone Breakout - SPH0645LM4H has been ordered)\n",
    " - Recompile I2S library\n",
    " - Check PCM microphone is still working\n",
    " - Reconfigure library to enable PDM mode\n",
    " - Recompile\n",
    " - Test with PDM microphone"
   ]
  },
  {
   "cell_type": "markdown",
   "metadata": {},
   "source": [
    "## Progress Update 3 - 07/09/2020"
   ]
  },
  {
   "cell_type": "markdown",
   "metadata": {},
   "source": [
    "### I2S Microphone Software and Hardware setup "
   ]
  },
  {
   "cell_type": "markdown",
   "metadata": {},
   "source": [
    "A user on GitHub has provided a 'getting started' guide on setting up an I2S microphone on RPis: \n",
    "https://github.com/Infineon/GetStarted_IM69D130_With_RaspberryPi. \n",
    "\n",
    "<b> Alternatively, adafruit has a script available which automatically compiles the I2S module, see the \"Raspberry Pi Wiring & Test\" </b>\n",
    "https://learn.adafruit.com/adafruit-i2s-mems-microphone-breakout/raspberry-pi-wiring-test. Follow this guide yielded the following breadboard circuit:"
   ]
  },
  {
   "cell_type": "code",
   "execution_count": 8,
   "metadata": {},
   "outputs": [
    {
     "data": {
      "text/html": [
       "<img src=\"Images/I2S-MEMS-Breakout.jpg\" width=\"600\" />"
      ],
      "text/plain": [
       "<IPython.core.display.HTML object>"
      ]
     },
     "metadata": {},
     "output_type": "display_data"
    }
   ],
   "source": [
    "display(HTML('''<img src=\"Images/I2S-MEMS-Breakout.jpg\" width=\"600\" />'''))"
   ]
  },
  {
   "cell_type": "markdown",
   "metadata": {},
   "source": [
    "Note that the uppermost pinout on the breakout is not connected as that is used for stereo (2 microphone) mode, here we are only using mono (1 microphone). Audio was recorded from this microphone using the 'arecord' command, details for which are found here: https://linux.die.net/man/1/arecord."
   ]
  },
  {
   "cell_type": "code",
   "execution_count": 5,
   "metadata": {},
   "outputs": [],
   "source": [
    "#Connecting to the RPi over Wi-Fi\n",
    "from paramiko import SSHClient\n",
    "from scp import SCPClient\n",
    "RPi = '192.168.0.6' # This is the IP address when RPi is connected to SHL network, note that this changes depending on different networks unless static IP is set\n",
    "ssh = SSHClient()\n",
    "ssh.load_system_host_keys()\n",
    "ssh.connect(RPi,username='pi')"
   ]
  },
  {
   "cell_type": "code",
   "execution_count": 6,
   "metadata": {},
   "outputs": [],
   "source": [
    "scp = SCPClient(ssh.get_transport())"
   ]
  },
  {
   "cell_type": "code",
   "execution_count": 10,
   "metadata": {},
   "outputs": [
    {
     "name": "stdout",
     "output_type": "stream",
     "text": [
      "arecord -D plughw:1 -c1 -r 48000 -f S32_LE -t wav -V mono -v -d 10 test_20200911_110249.wav\n"
     ]
    }
   ],
   "source": [
    "import datetime\n",
    "now = datetime.datetime.now().strftime(\"%Y%m%d_%H%M%S\")\n",
    "sample_rate = 48000\n",
    "\n",
    "cmd = f'arecord -D plughw:1 -c1 -r {sample_rate} -f S32_LE -t wav -V mono -v -d 10 test_{now}.wav'\n",
    "print(cmd)\n",
    "ssh.exec_command(cmd)\n",
    "scp.get(f'test_{now}.wav')"
   ]
  },
  {
   "cell_type": "code",
   "execution_count": 15,
   "metadata": {},
   "outputs": [
    {
     "name": "stdout",
     "output_type": "stream",
     "text": [
      "<paramiko.ChannelFile from <paramiko.Channel 5 (open) window=2097152 -> <paramiko.Transport at 0x6dcaffa0 (cipher aes128-ctr, 128 bits) (active; 1 open channel(s))>>>\n"
     ]
    }
   ],
   "source": [
    "stdin, stdout, stderr = ssh.exec_command('ls')\n",
    "print(stdout)"
   ]
  },
  {
   "cell_type": "code",
   "execution_count": 18,
   "metadata": {},
   "outputs": [],
   "source": [
    "import paramiko\n",
    "import time\n",
    "import datetime\n",
    "\n",
    "now = datetime.datetime.now().strftime(\"%Y%m%d_%H%M%S\")\n",
    "sample_rate = 48000\n",
    "\n",
    "cmd = f'arecord -D plughw:1 -c1 -r {sample_rate} -f S32_LE -t wav -V mono -v -d 10 test_{now}.wav'\n",
    "\n",
    "cli = paramiko.client.SSHClient()\n",
    "cli.set_missing_host_key_policy(paramiko.client.AutoAddPolicy())\n",
    "cli.connect(hostname=RPi, username=\"pi\")\n",
    "stdin_, stdout_, stderr_ = cli.exec_command(cmd)\n",
    "stdout_.channel.recv_exit_status()\n",
    "lines = stdout_.readlines()\n",
    "for line in lines:\n",
    "    print(line)\n",
    "\n",
    "cli.close()\n",
    "scp.get(f'test_{now}.wav')"
   ]
  },
  {
   "cell_type": "markdown",
   "metadata": {},
   "source": [
    "Breaking down this command:\n",
    " - -D plughw:1 (Selects the microphone by name, plughw:1 is the device name found using $ arecord -l)\n",
    " - -c1 (Selects a single channel, this can vary from 1 to 32)\n",
    " - r 48000 (Specifies the sampling rate, default is 8kHz but values are valid from 2kHz to 192kHz)\n",
    " - f S32_LE (Selects the sampling format)\n",
    " - t wav (Selects output file type, here we have selected the .wav format)\n",
    " - V mono (Selects mono audio type since we are only using 1 microphone, if using 2 select '-V stereo')\n",
    " - v (Verbose to show structure and setup whilst command is running)\n",
    " - d 10 (Specifies duration to record in seconds)\n",
    " - testing.wav (Specified filename which will be saved onto the RPi once the 10s duration elapses)\n",
    " \n",
    "<b> File transfer from Raspberry Pi to PC </b>\n",
    "To visualise the 'testing.wav' audio file acquired by the microphone and RPi, WinSCP was used as a file transfer software. It is a free and open-source software which offers secure file transfer between a local and remote computer, the following download link as used: https://winscp.net/eng/download.php. The software simply logs into the RPi through SSH (user and password required), and presents a simply drag-and-drop interface between the RPi and the PC.\n"
   ]
  },
  {
   "cell_type": "code",
   "execution_count": 25,
   "metadata": {},
   "outputs": [
    {
     "data": {
      "text/html": [
       "<img src=\"Images/WinSCP.PNG\" width=\"800\" />"
      ],
      "text/plain": [
       "<IPython.core.display.HTML object>"
      ]
     },
     "metadata": {},
     "output_type": "display_data"
    }
   ],
   "source": [
    "display(HTML('''<img src=\"Images/WinSCP.PNG\" width=\"800\" />'''))"
   ]
  },
  {
   "cell_type": "markdown",
   "metadata": {},
   "source": [
    "The local .wav file was then opened in Audacity which is a free, open-source digital audio editor and recording software (Download link: https://www.audacityteam.org/download/). The recored audio profile can be seen below:"
   ]
  },
  {
   "cell_type": "code",
   "execution_count": 9,
   "metadata": {},
   "outputs": [
    {
     "data": {
      "text/html": [
       "<img src=\"Images/PCM-Test-Waveform.PNG\" width=\"800\" />"
      ],
      "text/plain": [
       "<IPython.core.display.HTML object>"
      ]
     },
     "metadata": {},
     "output_type": "display_data"
    }
   ],
   "source": [
    "display(HTML('''<img src=\"Images/PCM-Test-Waveform.PNG\" width=\"800\" />'''))"
   ]
  },
  {
   "cell_type": "markdown",
   "metadata": {},
   "source": [
    "Once the I2S driver has been setup on the RPi, the next step is to enable PDM mode - see the following thread:\n",
    "https://www.raspberrypi.org/forums/viewtopic.php?f=44&t=8496&hilit=PDM+SPH0641LU4H+1&sid=caf3bbeb363ecf6ebcfa33a2d872295b&start=925. This involves enabling the RPi to read PDM input data by uncommenting PDMN and PDME in the bcm2835-i2s.c file which can be found in ~/linux/sound/soc/bcm. The I2S microphone was then tested again with the PDM enabled and there was no identifiable issues acquiring sound - <b> This indicates that the edits to the i2s sound library are incorrect or have not been compiled properly </b>. The bclk_rate has also been fixed to 3.072MHz after line 380 in bcm2835-i2s.c.\n",
    "\n",
    "The PDM MEMS Microphone Breakout will be setup using the following: https://learn.adafruit.com/adafruit-pdm-microphone-breakout/overview![image.png](attachment:ef929381-c226-47ba-9810-96b8a201139e.png): "
   ]
  },
  {
   "cell_type": "markdown",
   "metadata": {},
   "source": [
    "### PDM Microphone Software and Hardware setup "
   ]
  },
  {
   "cell_type": "markdown",
   "metadata": {},
   "source": [
    "Once the I2S driver has been set up on the RPi and the I2S microphone is working as intended, the next step is to setup the PDM microphone software and hardware. The best resource to achieve this task is the following link: https://www.raspberrypi.org/forums/viewtopic.php?f=44&t=8496&hilit=PDM+SPH0641LU4H+1&sid=caf3bbeb363ecf6ebcfa33a2d872295b&start=925 - we will set up the following microphone from Adafruit: https://www.adafruit.com/product/3492\n",
    "\n",
    "The RPi's SoC (BCM2835) is not configured to take PDM data as an input on its I2S line, however it is capable of interfacing with 2 PDM microphones. To enable PDM input, these are the specific steps that I followed:\n",
    " - Edit the BCM2835 sound source file (bcm2835-i2s.c) by doing the following:\n",
    "     - \\$ cd linux/sound/soc/bcm (Change directory to the location which contains Linux's I2S sound source file) \n",
    "     - \\$ sudo nano bcm2835-i2s.c (Open up the I2S sound source file for editing in root mode)\n",
    "     - Go to line ~393/394 and write bclk_rate = 3072000 (This fixes the PCM clock rate at 3.072 MHz which is what we need for PDM microphones)\n",
    "     - Go to line ~590 and write \"mode |= BCM2835_I2S_PDMN;\" on one line, and \"mode |= BCM2835_I2S_PDME\" on the next line, <b> before the \"regmap_write(dev->i2s_regmap, BCM2835_I2S_MODE_A_REG, mode); </b> (This ensures PDM mode is enabled and a decimation factor of N = 32 is selected during the I2S mode setup).\n",
    " - \\\\$ make -C /lib/modules/(\\\\$ uname -r )/build M=(\\$ pwd) modules (Now that we have changed the source file, we need to use the 'make' command to run the Makefile which will compile the changes and generate a .ko kernel object file which is what we want - this file is called \"snd-soc-bcm2835-i2s.ko\") \n",
    " - \\$ cd /lib/modules/(uname -r)/kernel/sound/soc/bcm (This puts us in the directory of the kernel which contains the existing \"snd-soc-bcm2835-i2s.ko\" which needs to be replaced)\n",
    "     - \\$ sudo rm -r snd-soc-bcm2835-i2s.ko (This removes the existing kernel object so we can replace it with out newly generated .ko file)\n",
    " - In the /linux/sound/soc/bcm directory, execute the command: sudo cp snd-soc-bcm2835-i2s.ko /lib/modules/([dollar sign] uname -r)/kernel/sound/soc/bcm (This will copy over the newly generated .ko file with PDM mode enabled to where we need it!)\n",
    " - Reboot the RPi using \\\\$ sudo reboot and use the following command to record audio: arecord -D plughw:1 -c1 -r 48000 -f S16_LE -d 60 -t wav -V mono -v test.wav\n",
    "     \n",
    "After the above steps, the PDM microphone from Adafruit was connected to the RPi as follows and tested. The circuit is shown below and the .wav file generated is entitled \"24092020.wav\" "
   ]
  },
  {
   "cell_type": "code",
   "execution_count": 10,
   "metadata": {},
   "outputs": [
    {
     "data": {
      "text/html": [
       "<img src=\"Images/PDM-MEMS-Breakout.jpg\" width=\"600\" />"
      ],
      "text/plain": [
       "<IPython.core.display.HTML object>"
      ]
     },
     "metadata": {},
     "output_type": "display_data"
    }
   ],
   "source": [
    "display(HTML('''<img src=\"Images/PDM-MEMS-Breakout.jpg\" width=\"600\" />'''))"
   ]
  },
  {
   "cell_type": "markdown",
   "metadata": {},
   "source": [
    "## Progress Update 4 - 28/09/2020"
   ]
  },
  {
   "cell_type": "markdown",
   "metadata": {},
   "source": [
    "### Digital Microphone Array Prototype PCB Design"
   ]
  },
  {
   "cell_type": "markdown",
   "metadata": {},
   "source": [
    "The PDM Microphone Array PCB was designed using EagleCAD. The following components are required for full assembly of the array:\n",
    " - 2x Battery Contact Clip 18650 PC Pin (Through-Hole) \n",
    " - 1x Switch Slide SPST 8.5A 125V (SMD)\n",
    " - 1x TPS81256 IC Reg Booster 5V (SMD)\n",
    " - 1x Ceramic Capacitor 4.7 uF (SMD)\n",
    " - 1x GPIO Female Header Raspberry Pi\n",
    " - 1x GPIO Male Header Raspberry Pi\n",
    " - 1x Raspberry Pi Zero W\n",
    " - 2x Vesper VM3000 PDM Microphone (SMD)\n",
    " - 2x Ceramic Capacitor 0.1 uF (SMD)\n",
    " - 1x Resistor 330 Ohm (SMD)\n",
    " - 1x Green LED 2mA (SMD)\n",
    " \n",
    "All relevant files including Bill of Materials (BOM), schematic, board and gerber files for this PCB can be found in the .../VM3000-Microphones/PCB Files folder. \n",
    "\n",
    "All components within the BOM have been procured from Digi-Key, a known-reliable supplier of electronic components. The prototype PCB has been ordered through Elecrow.com as per SME recommendation.\n",
    " \n",
    "The schematic produced for this prototype is illustrated below:"
   ]
  },
  {
   "cell_type": "code",
   "execution_count": 11,
   "metadata": {},
   "outputs": [
    {
     "data": {
      "text/html": [
       "<img src=\"Images/PDM_Microphone_Array_Prototype_Schematic.PNG\" width=\"600\" />"
      ],
      "text/plain": [
       "<IPython.core.display.HTML object>"
      ]
     },
     "metadata": {},
     "output_type": "display_data"
    }
   ],
   "source": [
    "display(HTML('''<img src=\"Images/PDM_Microphone_Array_Prototype_Schematic.PNG\" width=\"600\" />'''))"
   ]
  },
  {
   "cell_type": "markdown",
   "metadata": {},
   "source": [
    "The board design for this prototype is illustrated below:"
   ]
  },
  {
   "cell_type": "code",
   "execution_count": 12,
   "metadata": {},
   "outputs": [
    {
     "data": {
      "text/html": [
       "<img src=\"Images/PDM_Microphone_Array_Prototype_Board.PNG\" width=\"600\" />"
      ],
      "text/plain": [
       "<IPython.core.display.HTML object>"
      ]
     },
     "metadata": {},
     "output_type": "display_data"
    }
   ],
   "source": [
    "display(HTML('''<img src=\"Images/PDM_Microphone_Array_Prototype_Board.PNG\" width=\"600\" />'''))"
   ]
  },
  {
   "cell_type": "markdown",
   "metadata": {},
   "source": [
    "<b> Prototype PCB Walkthrough </b>\n",
    "\n",
    "The board is powered using a rechargeable Li-Ion 18650 battery which will be electrically connected to the board and mechanically fixed using 18650 battery contact clips. The 18650 outputs an average of 3.7V, however the Raspberry Pi Zero W is powered using 5V, therefore a DC/DC boost converter is required. The TPS81256 and a 4.7uF decoupling capacitor as recommended by the component datasheet is used to output a fixed 5V output to the RPi from the 3.7V 18650 battery input. An SPST toggle switch is used to power up or power down the board as required without needing to physically remove the battery for ease of use and battery life preservation. Thicker traces are used to accomodate for current output from the 18650 battery through to the SPST toggle switch. The 5V output from the TPS81256 is fed into the 5V power input pin of the RPi (pin 2), which will be connected to the PCB using a female/male header pair (female header will be soldered onto the PCB and male header onto the RPi). Polygon pours have been used for the TPS81256 as per SME recommendation.\n",
    "\n",
    "The 3.3V output of the RPi (pin 1) is then used to power the VM3000 microphone pair; each VM3000 has an accompanying 0.1uF capacitor to reduce ringing upon power up. For stereo audio, the L/R select of each microphone is appropriately set following the VM3000 datasheet. Both VM3000 are driven using the same clock-line from pin 12. PDM data output from VM3000 is received using a single line which is connected to pin 38 of the RPi. A 2mA LED is connected to the power line in series with a 330 Ohm resistor as a low-power visual indicator of when the board is in operation. Several test pads are strategically placed on the board for troubleshooting purposes. Copper pours are used on both top and bottom layers of the board for ground connection. 4x 3mm holes are drilled on the edges of the board for mechanical fixing purposes, and 4x 2.75mm holes are drilled to accomodate for mechanical fixing of the RPi using spacer screws if the mechanical strength of female/male headers is deemed inadequate.\n",
    "\n",
    "<b> Some issues identified </b>\n",
    "\n",
    "There were 3 issues identified once the board had arrived which will be important for future iterations of this prototype:\n",
    " - Not enough spacing between the Pi Zero W and the battery holder clip. The protruding length of the SD card was not acccounted for, therefore in future iterations ensure adequate spacing inbetween the battery and Pi Zero W.\n",
    " - Silkscreen for component labels were not printed on this board. This is likely to have been an error on my part when generating the gerber files.\n",
    " - For future design, since there is plenty of empty space on the board, aim to use components with larger footprints for ease of soldering - notice how the resistor and capacitor footprints are quite small despite plenty of space surrounding it."
   ]
  },
  {
   "cell_type": "markdown",
   "metadata": {},
   "source": [
    "### Beamforming Algorithms"
   ]
  },
  {
   "cell_type": "markdown",
   "metadata": {},
   "source": [
    "Several Python beamforming packages are available online, below are links to a few of them (note I have yet not chosen which one to use):\n",
    " - https://pypi.org/project/arlpy/\n",
    " - https://pypi.org/project/pyroomacoustics/\n",
    " - https://pypi.org/project/acoular/\n",
    " \n",
    "The function of each Python package was explored in Jupyter notebooks entitled \"AudioPlayground\" within this repository. I found that pyroomacoustics and arlpy were the most intuitive packages to use and produced outputs which were most useful for my use-case. Acoular seems to be more appropriate for complex microphone arrays and for generating heatmap beamforming plots. In light of this, I will be moving forward with using arlpy and pyroomacoustics as part of my beamforming code. Arlpy produces cartesian beamforming plots and is able to do so across many beamforming techniques in both time-domain and frequency-domain. Pyroomacoustics can provide a visual simulation of the beamforming environment and also generate polar plots.\n",
    " \n",
    "Useful guide explain concept of delay and sum beamforming on Python:\n",
    "https://nrr.mit.edu/sites/default/files/documents/Conventional%20Beamforming%20-%20Introduction.html"
   ]
  },
  {
   "cell_type": "markdown",
   "metadata": {},
   "source": [
    "## Progress Update 5 - 16/10/2020"
   ]
  },
  {
   "cell_type": "markdown",
   "metadata": {},
   "source": [
    "### Assembling the prototype microphone array"
   ]
  },
  {
   "cell_type": "markdown",
   "metadata": {},
   "source": [
    "Since some of the component footprints on the PCB is extremely small, a stencil was also ordered as part of the PCB order from Elecrow to assist in soldering components onto the board. The TPS81256 DCDC Boost Converter, VM3000 microphones, capacitors, resistor and LED will be soldered using a stencil, PCB paste and heated using the heat gun available in the UWA SHL. The remaining components are Through Hole Technology and can therefore be hand-soldered. Guides on solder paste and THT soldering best practice can be found online.\n",
    "\n",
    "<b> Challenges faced </b>\n",
    " - First time use of stencil and solder paste; some components were not heated adequately and when testing whether they were soldered on by bumping with a tweaser, they were displaced from their footprint. Putting them back in place caused smudging of solder paste which had the potential to create shorts. \n",
    " - A single component was shorted (0.1 uF capacitor closest to GPIO header pins) which produced a closed loop connection that fried the battery output trace of the board. This can be seen in subsequent images where the burnt trace has been rebuilt using solder.\n",
    " - Unknown behaviour of TPS81256 Boost Converter; the TPS81256 was initially outputting a stable 5V using the 18650 4V input, however at a certain stage it began to 3.7V and was unable to power the RPi, yet after being left untouched for 30 minutes it then returned to outputting a stable 5V. The root cause of this behaviour is not yet known however it may have been a loading issue. \n",
    " \n",
    "In troubleshooting the board for shorts, faulty connections and confirming voltage/current levels, a multimeter was used. There is a short connection testing functionality which was used to ensure no components were shorted together and therefore would not damage the board when powered - in hindsight, this step should have been done prior to powering the board the first time around. The voltage measurement setting on the multimeter was also very useful in checking the voltage output of the battery, the switch, the TPS81256 and the RPi 3.3V pin.\n",
    " \n",
    "The images below show the microphone array prototype board populated with all relevant components, with and without the 18650 Li-Ion battery and RPi Zero W installed. Notice how in the last 2 images both the green LED (powered by the RPi 3.3V output) and the green LED on the RPi itself lights up - this indicated the 18650 is sufficiently powering the RPi through its start-up sequence and into operation. "
   ]
  },
  {
   "cell_type": "code",
   "execution_count": 10,
   "metadata": {},
   "outputs": [
    {
     "data": {
      "text/html": [
       "<img style=\"transform: rotate(270deg);\" img src=\"Images/Populated_Prototype_1.jpg\" width=\"600\" />"
      ],
      "text/plain": [
       "<IPython.core.display.HTML object>"
      ]
     },
     "metadata": {},
     "output_type": "display_data"
    }
   ],
   "source": [
    "display(HTML('<img style=\"transform: rotate(270deg);\" img src=\"Images/Populated_Prototype_1.jpg\" width=\"600\" />'))"
   ]
  },
  {
   "cell_type": "code",
   "execution_count": 13,
   "metadata": {},
   "outputs": [
    {
     "data": {
      "text/html": [
       "<img src=\"Images/Populated_Prototype_2.jpg\" width=\"600\" />"
      ],
      "text/plain": [
       "<IPython.core.display.HTML object>"
      ]
     },
     "metadata": {},
     "output_type": "display_data"
    }
   ],
   "source": [
    "display(HTML('<img src=\"Images/Populated_Prototype_2.jpg\" width=\"600\" />'))"
   ]
  },
  {
   "cell_type": "code",
   "execution_count": 15,
   "metadata": {},
   "outputs": [
    {
     "data": {
      "text/html": [
       "<img src=\"Images/Populated_Prototype_3.jpg\" width=\"600\" />"
      ],
      "text/plain": [
       "<IPython.core.display.HTML object>"
      ]
     },
     "metadata": {},
     "output_type": "display_data"
    }
   ],
   "source": [
    "display(HTML('<img src=\"Images/Populated_Prototype_3.jpg\" width=\"600\" />'))"
   ]
  },
  {
   "cell_type": "code",
   "execution_count": 16,
   "metadata": {},
   "outputs": [
    {
     "data": {
      "text/html": [
       "<img src=\"Images/Populated_Prototype_4.jpg\" width=\"600\" />"
      ],
      "text/plain": [
       "<IPython.core.display.HTML object>"
      ]
     },
     "metadata": {},
     "output_type": "display_data"
    }
   ],
   "source": [
    "display(HTML('<img src=\"Images/Populated_Prototype_4.jpg\" width=\"600\" />'))"
   ]
  },
  {
   "cell_type": "markdown",
   "metadata": {},
   "source": [
    "## Testing the microphone functionality"
   ]
  },
  {
   "cell_type": "markdown",
   "metadata": {},
   "source": [
    "The following command was used to test whether the VM3000s were picking up sound as needed and sound from an iPhone was used as a test signal:\n",
    "\n",
    "arecord -D plughw:1 -c2 -r 48000 -f S16_LE -d 15 -t wav -V stereo -v test.wav <b> ( Note the \"-c2\" command used to specify 2 channels; microphone pair) </b>\n",
    "\n",
    "The array captured the sound produced from the iPhone and generated a stereo wav file as needed - an issue observed was:\n",
    " - Playback of the output .wav file produced a much lower pitch and muffled sounding audio with respect to the original iPhone output test signal, it is possible that the microphone holes of the VM3000 are slightly misaligned on the PCB port, or that they were not designed to specification. This would remove the high frequency components of the test signal, akin to how if you were to place a piece of cloth over a speaker, you would still hear it however it would be muffled.\n",
    " - There is an audible ticking sound in the background throughout the recording; this may be due to the microphone array's response to ambient noise but further investigation is required."
   ]
  },
  {
   "cell_type": "code",
   "execution_count": 6,
   "metadata": {},
   "outputs": [
    {
     "data": {
      "text/html": [
       "<img src=\"Images/05112020_PDM_Stereo.PNG\" length\"400\" />"
      ],
      "text/plain": [
       "<IPython.core.display.HTML object>"
      ]
     },
     "metadata": {},
     "output_type": "display_data"
    }
   ],
   "source": [
    "display(HTML('<img src=\"Images/05112020_PDM_Stereo.PNG\" length\"400\" />'))"
   ]
  },
  {
   "cell_type": "markdown",
   "metadata": {},
   "source": [
    "## Progress Update 6 - 13/11/2020"
   ]
  },
  {
   "cell_type": "markdown",
   "metadata": {},
   "source": [
    "### Microphone Array characteristics test"
   ]
  },
  {
   "cell_type": "markdown",
   "metadata": {},
   "source": [
    "There are several tests which will be conducted to characterise the performance of the microphone array, namely:\n",
    " - <b> Ambient Noise test </b> - Recording the microphone array's response in a quiet room (anechoic desireably) to characterise the ambient noise generated by the microphone array itself and corresponding electronics. \n",
    "  - Required equipment: anechoic chamber, microphone array, laptop\n",
    " - <b> 10 Cycle Pulse test </b> - Recording the microphone array's response to 10 cycles of a specified pulse of sound. In between each pulse, the array is to be rotated and a superpositioned plot of sound source signal and microphone 1/2 recording signal to be made. The idea is to be able to see a time shift in plots as we rotate the array. \n",
    "  - Required equipment: anechoic chamber, microphone array, laptop, signal generator, speaker, measurement equipment (to ensure constant rotation increments)\n",
    " - <b> Continuous Wave Data test </b> - Recording the microphone array's response to a continuously generated signal to characterise the effects of a normal room with sound waves bouncing from the room surfaces. This can be compared to the microphone's response to a signal broadcasted in an anechoic chamber to characterise the impact of sound reflections from room surfaces.\n",
    "  - Required equipment: anechoic chamber, microphone array, laptop, signal generator, speaker,\n",
    " - <b> Sweep Data test </b> - Recording the microphone array's response to a signal which sweeps low to high frequencies. This allows us to characterise the frequency response of the microphone array, note that the speaker used will have its own frequency response and if significant, this should be taken into account in characterising the microphone array frequency response.\n",
    " - <b> White Noise Data test </b> - Recording the microphone array's response to a 'white noise' signal which is a signal which consists of equal amounts of all frequencies. This can also be used to characterise the frequency response of the microphone array, again we should account for the frequency response of the speaker used. "
   ]
  }
 ],
 "metadata": {
  "kernelspec": {
   "display_name": "Python 3",
   "language": "python",
   "name": "python3"
  },
  "language_info": {
   "codemirror_mode": {
    "name": "ipython",
    "version": 3
   },
   "file_extension": ".py",
   "mimetype": "text/x-python",
   "name": "python",
   "nbconvert_exporter": "python",
   "pygments_lexer": "ipython3",
   "version": "3.7.9"
  }
 },
 "nbformat": 4,
 "nbformat_minor": 4
}
