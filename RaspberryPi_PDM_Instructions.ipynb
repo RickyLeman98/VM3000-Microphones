{
 "cells": [
  {
   "cell_type": "markdown",
   "metadata": {},
   "source": [
    "## Raspberry Pi Zero W PDM Mode Setup"
   ]
  },
  {
   "cell_type": "markdown",
   "metadata": {},
   "source": [
    "<b> RPi type: Zero W </b>\n",
    "\n",
    "<b> RPi version: 4.19.88+ </b>"
   ]
  },
  {
   "cell_type": "markdown",
   "metadata": {},
   "source": [
    "The RPi's SoC (BCM2835) is not configured to take PDM data as an input on its I2S line, however it is capable of interfacing with 2 PDM microphones. To enable PDM input, these are the specific steps that I followed:"
   ]
  },
  {
   "cell_type": "markdown",
   "metadata": {},
   "source": [
    "Navigate to the BCM2835 sound source file (bcm2835-i2s.c) location by doing the following:\n",
    " \n",
    " \\$ cd linux/sound/soc/bcm"
   ]
  },
  {
   "cell_type": "code",
   "execution_count": 4,
   "metadata": {},
   "outputs": [
    {
     "data": {
      "text/html": [
       "<img src=\"Images/PDM_Setup_1.PNG\" width=\"800\" />"
      ],
      "text/plain": [
       "<IPython.core.display.HTML object>"
      ]
     },
     "metadata": {},
     "output_type": "display_data"
    }
   ],
   "source": [
    "from IPython.display import display, HTML\n",
    "display(HTML('''<img src=\"Images/PDM_Setup_1.PNG\" width=\"800\" />'''))"
   ]
  },
  {
   "cell_type": "markdown",
   "metadata": {},
   "source": [
    "Open the BCM2835 I2S sound source file for editing in root mode\n",
    "\n",
    "\\$ sudo nano bcm2835-i2s.c"
   ]
  },
  {
   "cell_type": "code",
   "execution_count": 7,
   "metadata": {},
   "outputs": [
    {
     "data": {
      "text/html": [
       "<img src=\"Images/PDM_Setup_2.PNG\" width=\"800\" />"
      ],
      "text/plain": [
       "<IPython.core.display.HTML object>"
      ]
     },
     "metadata": {},
     "output_type": "display_data"
    }
   ],
   "source": [
    "display(HTML('''<img src=\"Images/PDM_Setup_2.PNG\" width=\"800\" />'''))"
   ]
  },
  {
   "cell_type": "code",
   "execution_count": null,
   "metadata": {},
   "outputs": [],
   "source": [
    "   - Go to line ~393/394 and write bclk_rate = 3072000 (This fixes the PCM clock rate at 3.072 MHz which is what we need for PDM microphones)\n",
    "     - Go to line ~590 and write \"mode |= BCM2835_I2S_PDMN;\" on one line, and \"mode |= BCM2835_I2S_PDME\" on the next line, <b> before the \"regmap_write(dev->i2s_regmap, BCM2835_I2S_MODE_A_REG, mode); </b> (This ensures PDM mode is enabled and a decimation factor of N = 32 is selected during the I2S mode setup).\n",
    " - \\\\$ make -C /lib/modules/(\\\\$ uname -r )/build M=(\\$ pwd) modules (Now that we have changed the source file, we need to use the 'make' command to run the Makefile which will compile the changes and generate a .ko kernel object file which is what we want - this file is called \"snd-soc-bcm2835-i2s.ko\") \n",
    " - \\$ cd /lib/modules/(uname -r)/kernel/sound/soc/bcm (This puts us in the directory of the kernel which contains the existing \"snd-soc-bcm2835-i2s.ko\" which needs to be replaced)\n",
    "     - \\$ sudo rm -r snd-soc-bcm2835-i2s.ko (This removes the existing kernel object so we can replace it with out newly generated .ko file)\n",
    " - In the /linux/sound/soc/bcm directory, execute the command: sudo cp snd-soc-bcm2835-i2s.ko /lib/modules/([dollar sign] uname -r)/kernel/sound/soc/bcm (This will copy over the newly generated .ko file with PDM mode enabled to where we need it!)\n",
    " - Reboot the RPi using \\\\$ sudo reboot and use the following command to record audio: arecord -D plughw:1 -c1 -r 48000 -f S16_LE -d 60 -t wav -V mono -v test.wav"
   ]
  },
  {
   "cell_type": "markdown",
   "metadata": {},
   "source": [
    "Make the following edits in the sound source file to ensure PDM is enabled correctly - here we are using bitwise OR to write 1 to the relevant PDM registers which you can find in the BCM2835 SOC datasheet:\n",
    " - Go to line ~393/394 and write \"bclk_rate = 307200\" (This fixes the PCM clockrate at 3.072 MHz which is what we generally need for PDM microphones - note this may be unique for different microphones, check your relevant datasheet)\n",
    " - Go to line ~586 and write \"mode |= BCM2835_I2S_PDMN;\" on one line and \"mode |= BCM2835_I2S_PDME\" on the next line. Note this should be done before the existing command in the file \"regmap_write(dev->i2s_regmap, BCM2835_I2S_MODE_A_REG, mode);\" (This enables PDM mode and selects a decimation factor of N = 32)\n",
    " \n",
    "Be sure to save the changes made to the sound source file.  "
   ]
  },
  {
   "cell_type": "code",
   "execution_count": 9,
   "metadata": {},
   "outputs": [
    {
     "data": {
      "text/html": [
       "<img src=\"Images/PDM_Setup_3.PNG\" width=\"800\" />"
      ],
      "text/plain": [
       "<IPython.core.display.HTML object>"
      ]
     },
     "metadata": {},
     "output_type": "display_data"
    },
    {
     "data": {
      "text/html": [
       "<img src=\"Images/PDM_Setup_4.PNG\" width=\"800\" />"
      ],
      "text/plain": [
       "<IPython.core.display.HTML object>"
      ]
     },
     "metadata": {},
     "output_type": "display_data"
    }
   ],
   "source": [
    "display(HTML('''<img src=\"Images/PDM_Setup_3.PNG\" width=\"800\" />'''))\n",
    "display(HTML('''<img src=\"Images/PDM_Setup_4.PNG\" width=\"800\" />'''))"
   ]
  },
  {
   "cell_type": "markdown",
   "metadata": {},
   "source": [
    "Now that we have changed the source file, we use the 'make' command to run the MakeFile which compiles all changes and generates a .ko kernel object:\n",
    "    \n",
    "\\\\$ make -C /lib/modules/(\\\\$ uname -r)/build M=(\\$ pwd)\n",
    "\n",
    "You should see a bunch of files with .c, .o and .ko extensions - look out for the file named <b> \"snd-soc-bcm2835-i2s.ko\" </b>. This is the file which captures changes made in the bcm2835-i2s.c file."
   ]
  },
  {
   "cell_type": "code",
   "execution_count": 11,
   "metadata": {},
   "outputs": [
    {
     "data": {
      "text/html": [
       "<img src=\"Images/PDM_Setup_5.PNG\" width=\"800\" />"
      ],
      "text/plain": [
       "<IPython.core.display.HTML object>"
      ]
     },
     "metadata": {},
     "output_type": "display_data"
    }
   ],
   "source": [
    "display(HTML('''<img src=\"Images/PDM_Setup_5.PNG\" width=\"800\" />'''))"
   ]
  },
  {
   "cell_type": "markdown",
   "metadata": {},
   "source": [
    "Now we have to navigate to the directory of the kernel which contains the existing \"snd-soc-bcm2835-i2s.ko\" which needs to be replaced. Once we are there, we need to remove the existing kernel object so we can replace it with the newly generated one:\n",
    "\n",
    "\\$ cd lib/modules/(uname -r)/kernel/sound/soc/bcm\n",
    "\n",
    "\\$ sudo rm -r snd-soc-bcm2835-i2s.ko"
   ]
  },
  {
   "cell_type": "code",
   "execution_count": 14,
   "metadata": {},
   "outputs": [
    {
     "data": {
      "text/html": [
       "<img src=\"Images/PDM_Setup_6.PNG\" length=\"600\" />"
      ],
      "text/plain": [
       "<IPython.core.display.HTML object>"
      ]
     },
     "metadata": {},
     "output_type": "display_data"
    }
   ],
   "source": [
    "display(HTML('''<img src=\"Images/PDM_Setup_6.PNG\" length=\"600\" />'''))"
   ]
  },
  {
   "cell_type": "markdown",
   "metadata": {},
   "source": [
    "Now we navigate back to the location of our <b> new </b> \"snd-soc-bcm2835-i2s.ko\" kernel object and copy this over to the kernel directory in which we have just deleted the existing sound kernel object:\n",
    "    \n",
    "sudo cp snd-soc-bcm2835-i2s.ko /lib/modules/([dollar sign] uname -r)/kernel/sound/soc/bcm"
   ]
  },
  {
   "cell_type": "code",
   "execution_count": null,
   "metadata": {},
   "outputs": [],
   "source": []
  }
 ],
 "metadata": {
  "kernelspec": {
   "display_name": "Python 3",
   "language": "python",
   "name": "python3"
  },
  "language_info": {
   "codemirror_mode": {
    "name": "ipython",
    "version": 3
   },
   "file_extension": ".py",
   "mimetype": "text/x-python",
   "name": "python",
   "nbconvert_exporter": "python",
   "pygments_lexer": "ipython3",
   "version": "3.7.9"
  }
 },
 "nbformat": 4,
 "nbformat_minor": 4
}
