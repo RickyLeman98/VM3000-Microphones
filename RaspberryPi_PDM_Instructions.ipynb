{
 "cells": [
  {
   "cell_type": "markdown",
   "metadata": {},
   "source": [
    "## Raspberry Pi Zero W PDM Mode Setup"
   ]
  },
  {
   "cell_type": "markdown",
   "metadata": {},
   "source": [
    "The RPi's SoC (BCM2835) is not configured to take PDM data as an input on its I2S line, however it is capable of interfacing with 2 PDM microphones. To enable PDM input, these are the specific steps that I followed:\n",
    " - Edit the BCM2835 sound source file (bcm2835-i2s.c) by doing the following:\n",
    "     - \\$ cd /linux/sound/soc/bcm (Change directory to the location which contains Linux's I2S sound source file) \n",
    "     - \\$ sudo nano bcm2835-i2s.c (Open up the I2S sound source file for editing in root mode)\n",
    "     - Go to line ~393/394 and write bclk_rate = 3072000 (This fixes the PCM clock rate at 3.072 MHz which is what we need for PDM microphones)\n",
    "     - Go to line ~590 and write \"mode |= BCM2835_I2S_PDMN;\" on one line, and \"mode |= BCM2835_I2S_PDME\" on the next line, <b> before the \"regmap_write(dev->i2s_regmap, BCM2835_I2S_MODE_A_REG, mode); </b> (This ensures PDM mode is enabled and a decimation factor of N = 32 is selected during the I2S mode setup).\n",
    " - \\\\$ make -C /lib/modules/(\\\\$ uname -r )/build M=(\\$ pwd) modules (Now that we have changed the source file, we need to use the 'make' command to run the Makefile which will compile the changes and generate a .ko kernel object file which is what we want - this file is called \"snd-soc-bcm2835-i2s.ko\") \n",
    " - \\$ cd /lib/modules/(uname -r)/kernel/sound/soc/bcm (This puts us in the directory of the kernel which contains the existing \"snd-soc-bcm2835-i2s.ko\" which needs to be replaced)\n",
    "     - \\$ sudo rm -r snd-soc-bcm2835-i2s.ko (This removes the existing kernel object so we can replace it with out newly generated .ko file)\n",
    " - In the /linux/sound/soc/bcm directory, execute the command: sudo cp snd-soc-bcm2835-i2s.ko /lib/modules/([dollar sign] uname -r)/kernel/sound/soc/bcm (This will copy over the newly generated .ko file with PDM mode enabled to where we need it!)\n",
    " - Reboot the RPi using \\\\$ sudo reboot and use the following command to record audio: arecord -D plughw:1 -c1 -r 48000 -f S16_LE -d 60 -t wav -V mono -v test.wav\n",
    " \n",
    "<b> RPi type: Zero W </b>\n",
    "\n",
    "<b> RPi version: (TODO) </b>\n",
    "\n",
    "<b> Accompanying images: TODO </b>"
   ]
  }
 ],
 "metadata": {
  "kernelspec": {
   "display_name": "Python 3",
   "language": "python",
   "name": "python3"
  },
  "language_info": {
   "codemirror_mode": {
    "name": "ipython",
    "version": 3
   },
   "file_extension": ".py",
   "mimetype": "text/x-python",
   "name": "python",
   "nbconvert_exporter": "python",
   "pygments_lexer": "ipython3",
   "version": "3.7.9"
  }
 },
 "nbformat": 4,
 "nbformat_minor": 4
}
